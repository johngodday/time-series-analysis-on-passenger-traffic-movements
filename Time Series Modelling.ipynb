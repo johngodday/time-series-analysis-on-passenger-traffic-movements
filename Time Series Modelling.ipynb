{
 "cells": [
  {
   "cell_type": "markdown",
   "metadata": {},
   "source": [
    "# <center> Time series analysis to forecast passengers Traffic Movement in murtala Mohammed Airport in Nigeria</center>"
   ]
  },
  {
   "cell_type": "markdown",
   "metadata": {},
   "source": [
    "<img src=\"air.jpg\" />"
   ]
  },
  {
   "cell_type": "markdown",
   "metadata": {},
   "source": [
    "import pandas as pd\n",
    "import numpy as np\n",
    "from scipy.stats import stats\n",
    "import seaborn as sns\n",
    "import matplotlib.pyplot as plt\n",
    "import warnings\n",
    "warnings.filterwarnings('ignore')"
   ]
  },
  {
   "cell_type": "code",
   "execution_count": 2,
   "metadata": {},
   "outputs": [
    {
     "data": {
      "text/html": [
       "<div>\n",
       "<style scoped>\n",
       "    .dataframe tbody tr th:only-of-type {\n",
       "        vertical-align: middle;\n",
       "    }\n",
       "\n",
       "    .dataframe tbody tr th {\n",
       "        vertical-align: top;\n",
       "    }\n",
       "\n",
       "    .dataframe thead th {\n",
       "        text-align: right;\n",
       "    }\n",
       "</style>\n",
       "<table border=\"1\" class=\"dataframe\">\n",
       "  <thead>\n",
       "    <tr style=\"text-align: right;\">\n",
       "      <th></th>\n",
       "      <th>passengers</th>\n",
       "    </tr>\n",
       "  </thead>\n",
       "  <tbody>\n",
       "    <tr>\n",
       "      <th>2012-01-31</th>\n",
       "      <td>279748</td>\n",
       "    </tr>\n",
       "    <tr>\n",
       "      <th>2012-02-29</th>\n",
       "      <td>350630</td>\n",
       "    </tr>\n",
       "    <tr>\n",
       "      <th>2012-03-31</th>\n",
       "      <td>372514</td>\n",
       "    </tr>\n",
       "  </tbody>\n",
       "</table>\n",
       "</div>"
      ],
      "text/plain": [
       "            passengers\n",
       "2012-01-31      279748\n",
       "2012-02-29      350630\n",
       "2012-03-31      372514"
      ]
     },
     "execution_count": 2,
     "metadata": {},
     "output_type": "execute_result"
    }
   ],
   "source": [
    "data = pd.read_csv('passengers.csv',)\n",
    "rang = pd.date_range('2012', '2017',  freq='M')\n",
    "data.set_index(rang, inplace = True)\n",
    "data = data.drop(['Date'], axis = 1)\n",
    "data.head(3)"
   ]
  },
  {
   "cell_type": "markdown",
   "metadata": {},
   "source": [
    "### Descriptive Statistics"
   ]
  },
  {
   "cell_type": "code",
   "execution_count": 3,
   "metadata": {},
   "outputs": [
    {
     "data": {
      "text/html": [
       "<div>\n",
       "<style scoped>\n",
       "    .dataframe tbody tr th:only-of-type {\n",
       "        vertical-align: middle;\n",
       "    }\n",
       "\n",
       "    .dataframe tbody tr th {\n",
       "        vertical-align: top;\n",
       "    }\n",
       "\n",
       "    .dataframe thead th {\n",
       "        text-align: right;\n",
       "    }\n",
       "</style>\n",
       "<table border=\"1\" class=\"dataframe\">\n",
       "  <thead>\n",
       "    <tr style=\"text-align: right;\">\n",
       "      <th></th>\n",
       "      <th>passengers</th>\n",
       "    </tr>\n",
       "  </thead>\n",
       "  <tbody>\n",
       "    <tr>\n",
       "      <th>count</th>\n",
       "      <td>60.000000</td>\n",
       "    </tr>\n",
       "    <tr>\n",
       "      <th>mean</th>\n",
       "      <td>331770.333333</td>\n",
       "    </tr>\n",
       "    <tr>\n",
       "      <th>std</th>\n",
       "      <td>33719.946173</td>\n",
       "    </tr>\n",
       "    <tr>\n",
       "      <th>min</th>\n",
       "      <td>267465.000000</td>\n",
       "    </tr>\n",
       "    <tr>\n",
       "      <th>25%</th>\n",
       "      <td>301866.000000</td>\n",
       "    </tr>\n",
       "    <tr>\n",
       "      <th>50%</th>\n",
       "      <td>332844.000000</td>\n",
       "    </tr>\n",
       "    <tr>\n",
       "      <th>75%</th>\n",
       "      <td>355969.750000</td>\n",
       "    </tr>\n",
       "    <tr>\n",
       "      <th>max</th>\n",
       "      <td>434782.000000</td>\n",
       "    </tr>\n",
       "  </tbody>\n",
       "</table>\n",
       "</div>"
      ],
      "text/plain": [
       "          passengers\n",
       "count      60.000000\n",
       "mean   331770.333333\n",
       "std     33719.946173\n",
       "min    267465.000000\n",
       "25%    301866.000000\n",
       "50%    332844.000000\n",
       "75%    355969.750000\n",
       "max    434782.000000"
      ]
     },
     "execution_count": 3,
     "metadata": {},
     "output_type": "execute_result"
    }
   ],
   "source": [
    "data.describe()"
   ]
  },
  {
   "cell_type": "markdown",
   "metadata": {},
   "source": [
    "### Data Visualization"
   ]
  },
  {
   "cell_type": "code",
   "execution_count": 4,
   "metadata": {},
   "outputs": [
    {
     "data": {
      "text/plain": [
       "<matplotlib.axes._subplots.AxesSubplot at 0xafc0b00>"
      ]
     },
     "execution_count": 4,
     "metadata": {},
     "output_type": "execute_result"
    },
    {
     "data": {
      "image/png": "[encoded data removed]",
      "text/plain": [
       "<Figure size 432x288 with 1 Axes>"
      ]
     },
     "metadata": {},
     "output_type": "display_data"
    }
   ],
   "source": [
    "plt.style.use('ggplot')\n",
    "data.plot()"
   ]
  },
  {
   "cell_type": "markdown",
   "metadata": {},
   "source": [
    "Inspectiong the series above we can see an obvious stochatic trend over time and also presence of seasonality. Hence the series have to be made stationary for further analysis"
   ]
  },
  {
   "cell_type": "code",
   "execution_count": 5,
   "metadata": {},
   "outputs": [
    {
     "data": {
      "image/png": "[encoded data removed]",
      "text/plain": [
       "<Figure size 432x288 with 1 Axes>"
      ]
     },
     "metadata": {},
     "output_type": "display_data"
    }
   ],
   "source": [
    "sns.distplot(data,kde = True);"
   ]
  },
  {
   "cell_type": "code",
   "execution_count": 6,
   "metadata": {},
   "outputs": [
    {
     "data": {
      "image/png": "[encoded data removed]",
      "text/plain": [
       "<Figure size 720x504 with 2 Axes>"
      ]
     },
     "metadata": {},
     "output_type": "display_data"
    }
   ],
   "source": [
    "from pandas.plotting import lag_plot, autocorrelation_plot\n",
    "fig, (ax1, ax2) = plt.subplots(nrows = 1, ncols = 2, figsize = (10, 7))\n",
    "autocorrelation_plot(data['passengers'], ax = ax1)\n",
    "lag_plot(data['passengers']);"
   ]
  },
  {
   "cell_type": "code",
   "execution_count": 7,
   "metadata": {},
   "outputs": [
    {
     "data": {
      "text/plain": [
       "0.5408552535911614"
      ]
     },
     "execution_count": 7,
     "metadata": {},
     "output_type": "execute_result"
    }
   ],
   "source": [
    "data['passengers'].corr(data['passengers'].shift(1))"
   ]
  },
  {
   "cell_type": "markdown",
   "metadata": {},
   "source": [
    "From the above inspection of the given series we can see that the series is auto correlated with it's lag, apparently showing that our series is not a random walk and can be modelled"
   ]
  },
  {
   "cell_type": "code",
   "execution_count": 8,
   "metadata": {},
   "outputs": [
    {
     "data": {
      "image/png": "[encoded data removed]",
      "text/plain": [
       "<Figure size 432x288 with 4 Axes>"
      ]
     },
     "metadata": {},
     "output_type": "display_data"
    }
   ],
   "source": [
    "from statsmodels.tsa.seasonal import seasonal_decompose\n",
    "decomposed = seasonal_decompose(data['passengers'], model='additive')\n",
    "x = decomposed.plot() #See note below about this"
   ]
  },
  {
   "cell_type": "markdown",
   "metadata": {},
   "source": [
    "### Test for stationarity"
   ]
  },
  {
   "cell_type": "code",
   "execution_count": 9,
   "metadata": {},
   "outputs": [
    {
     "name": "stdout",
     "output_type": "stream",
     "text": [
      "ADF Statistic: -2.624828\n",
      "p-value: 0.087974\n",
      "Critical Values:\n",
      "\t1%: -3.551\n",
      "\t5%: -2.914\n",
      "\t10%: -2.595\n"
     ]
    }
   ],
   "source": [
    "from statsmodels.tsa.stattools import adfuller, kpss\n",
    "\n",
    "result = adfuller(data['passengers'])\n",
    "\n",
    "print('ADF Statistic: %f' % result[0])\n",
    "print('p-value: %f' % result[1])\n",
    "print('Critical Values:')\n",
    "for key, value in result[4].items():\n",
    "    print('\\t%s: %.3f' % (key, value))"
   ]
  },
  {
   "cell_type": "code",
   "execution_count": 10,
   "metadata": {},
   "outputs": [
    {
     "name": "stdout",
     "output_type": "stream",
     "text": [
      "ADF Statistic: 0.138201\n",
      "p-value: 0.100000\n",
      "Critical Values:\n",
      "\t10%: 0.347\n",
      "\t5%: 0.463\n",
      "\t2.5%: 0.574\n",
      "\t1%: 0.739\n"
     ]
    }
   ],
   "source": [
    "result = kpss(data['passengers'])\n",
    "\n",
    "print('ADF Statistic: %f' % result[0])\n",
    "print('p-value: %f' % result[1])\n",
    "print('Critical Values:')\n",
    "for key, value in result[3].items():\n",
    "    print('\\t%s: %.3f' % (key, value))"
   ]
  },
  {
   "cell_type": "markdown",
   "metadata": {},
   "source": [
    "from the above result, the series is not stationary since we have the p-value (0.08) to be greater than our apha values (1%, 5%, and 10%)"
   ]
  },
  {
   "cell_type": "markdown",
   "metadata": {},
   "source": [
    "### Making Series Stationary"
   ]
  },
  {
   "cell_type": "markdown",
   "metadata": {},
   "source": [
    "    - Estimating and eliminating Trend\n",
    "      * Aggregation\n",
    "      * Smooting (Moving Average, Exponential weighted avearge)\n",
    "      * Polynomial fit\n",
    "      \n",
    "    - Eliminating Trend and seasonality \n",
    "      * Differencing\n",
    "      * Decomposing"
   ]
  },
  {
   "cell_type": "code",
   "execution_count": 11,
   "metadata": {},
   "outputs": [
    {
     "data": {
      "text/plain": [
       "[<matplotlib.lines.Line2D at 0xbea2828>]"
      ]
     },
     "execution_count": 11,
     "metadata": {},
     "output_type": "execute_result"
    },
    {
     "data": {
      "image/png": "[encoded data removed]",
      "text/plain": [
       "<Figure size 432x288 with 1 Axes>"
      ]
     },
     "metadata": {},
     "output_type": "display_data"
    }
   ],
   "source": [
    "shift = data['passengers'].shift(1)\n",
    "dtrend = data['passengers'] - shift\n",
    "\n",
    "# or\n",
    "diff = data['passengers'].diff()\n",
    "plt.plot(diff)\n",
    "#plt.plot(dtrend)"
   ]
  },
  {
   "cell_type": "code",
   "execution_count": 12,
   "metadata": {},
   "outputs": [
    {
     "name": "stdout",
     "output_type": "stream",
     "text": [
      "ADF Statistic: -9.029003\n",
      "p-value: 0.000000\n",
      "Critical Values:\n",
      "\t1%: -3.551\n",
      "\t5%: -2.914\n",
      "\t10%: -2.595\n"
     ]
    }
   ],
   "source": [
    "result = adfuller(diff.dropna())\n",
    "\n",
    "print('ADF Statistic: %f' % result[0])\n",
    "print('p-value: %f' % result[1])\n",
    "print('Critical Values:')\n",
    "for key, value in result[4].items():\n",
    "    print('\\t%s: %.3f' % (key, value))"
   ]
  },
  {
   "cell_type": "code",
   "execution_count": 13,
   "metadata": {},
   "outputs": [
    {
     "name": "stdout",
     "output_type": "stream",
     "text": [
      "ADF Statistic: 0.248484\n",
      "p-value: 0.100000\n",
      "Critical Values:\n",
      "\t10%: 0.347\n",
      "\t5%: 0.463\n",
      "\t2.5%: 0.574\n",
      "\t1%: 0.739\n"
     ]
    }
   ],
   "source": [
    "result = kpss(diff.dropna())\n",
    "\n",
    "print('ADF Statistic: %f' % result[0])\n",
    "print('p-value: %f' % result[1])\n",
    "print('Critical Values:')\n",
    "for key, value in result[3].items():\n",
    "    print('\\t%s: %.3f' % (key, value))"
   ]
  },
  {
   "cell_type": "code",
   "execution_count": 14,
   "metadata": {},
   "outputs": [
    {
     "data": {
      "image/png": "[encoded data removed]",
      "text/plain": [
       "<Figure size 432x288 with 4 Axes>"
      ]
     },
     "metadata": {},
     "output_type": "display_data"
    }
   ],
   "source": [
    "decomposed1 = seasonal_decompose(diff.dropna(), model='additive')\n",
    "x = decomposed1.plot() "
   ]
  },
  {
   "cell_type": "markdown",
   "metadata": {},
   "source": [
    "Differencing the series once made it stationary, hence we can proceed to build an ARIMA Model"
   ]
  },
  {
   "cell_type": "code",
   "execution_count": 15,
   "metadata": {},
   "outputs": [
    {
     "data": {
      "image/png": "[encoded data removed]",
      "text/plain": [
       "<Figure size 1600x300 with 2 Axes>"
      ]
     },
     "execution_count": 15,
     "metadata": {},
     "output_type": "execute_result"
    },
    {
     "data": {
      "image/png": "[encoded data removed]",
      "text/plain": [
       "<Figure size 1600x300 with 2 Axes>"
      ]
     },
     "metadata": {},
     "output_type": "display_data"
    }
   ],
   "source": [
    "from statsmodels.tsa.stattools import acf , pacf\n",
    "from statsmodels.graphics.tsaplots import plot_acf, plot_pacf\n",
    "\n",
    "fig, axes = plt.subplots(1,2,figsize=(16,3), dpi= 100)\n",
    "plot_acf(diff.dropna(),lags = 20, ax = axes[0])\n",
    "plot_pacf(diff.dropna(),lags = 20, ax = axes[1])"
   ]
  },
  {
   "cell_type": "markdown",
   "metadata": {},
   "source": [
    "### AR Model"
   ]
  },
  {
   "cell_type": "code",
   "execution_count": 16,
   "metadata": {},
   "outputs": [],
   "source": [
    "from statsmodels.tsa.ar_model import AR \n",
    "from statsmodels.tsa.arima_model import ARMA\n",
    "from sklearn.metrics import mean_squared_error"
   ]
  },
  {
   "cell_type": "code",
   "execution_count": 17,
   "metadata": {},
   "outputs": [
    {
     "name": "stdout",
     "output_type": "stream",
     "text": [
      "(47,) (12,)\n"
     ]
    }
   ],
   "source": [
    "data['diff'] = data['passengers'].diff()\n",
    "X = data['diff'].dropna()\n",
    "train = X[0:len(X)-12]\n",
    "test = X[X[len(X)-12:]]\n",
    "\n",
    "\"\"\"\"data['passengers'] = data['passengers'].diff()\n",
    "train = data[0:len(data) -12]\n",
    "test = data[len(data)-12:]\"\"\"\"\"\n",
    "\n",
    "print(train.shape, test.shape)"
   ]
  },
  {
   "cell_type": "code",
   "execution_count": 18,
   "metadata": {},
   "outputs": [
    {
     "name": "stdout",
     "output_type": "stream",
     "text": [
      "Lag: 10\n",
      "Coefficients: const       3706.515814\n",
      "L1.diff       -0.254738\n",
      "L2.diff       -0.515740\n",
      "L3.diff       -0.219542\n",
      "L4.diff       -0.174361\n",
      "L5.diff       -0.202097\n",
      "L6.diff       -0.215941\n",
      "L7.diff       -0.046194\n",
      "L8.diff        0.131466\n",
      "L9.diff        0.148593\n",
      "L10.diff      -0.134225\n",
      "dtype: float64\n"
     ]
    }
   ],
   "source": [
    "model = AR(train.dropna())\n",
    "model_fit = model.fit()\n",
    "print(\"Lag: %s\" % model_fit.k_ar)\n",
    "print(\"Coefficients: %s\" % model_fit.params)"
   ]
  },
  {
   "cell_type": "code",
   "execution_count": 19,
   "metadata": {},
   "outputs": [
    {
     "data": {
      "text/plain": [
       "'\"\"mod = ARMA(train, order = (10,0))\\nmod_fit = mod.fit()\\nmod_fit.params'"
      ]
     },
     "execution_count": 19,
     "metadata": {},
     "output_type": "execute_result"
    }
   ],
   "source": [
    "\"\"\"\"\"mod = ARMA(train, order = (10,0))\n",
    "mod_fit = mod.fit()\n",
    "mod_fit.params\"\"\"\"\""
   ]
  },
  {
   "cell_type": "code",
   "execution_count": 20,
   "metadata": {},
   "outputs": [],
   "source": [
    "# make predictions \n",
    "predictions = model_fit.predict(start=len(train), end=len(train) + len(test)-1, dynamic=False)\n",
    "\n",
    "# create a comparison dataframe\n",
    "compare_df = pd.concat([data['diff'].tail(12),predictions], axis=1).rename(columns={'diff': 'actual', 0:'predicted'})"
   ]
  },
  {
   "cell_type": "code",
   "execution_count": 21,
   "metadata": {},
   "outputs": [
    {
     "data": {
      "text/html": [
       "<div>\n",
       "<style scoped>\n",
       "    .dataframe tbody tr th:only-of-type {\n",
       "        vertical-align: middle;\n",
       "    }\n",
       "\n",
       "    .dataframe tbody tr th {\n",
       "        vertical-align: top;\n",
       "    }\n",
       "\n",
       "    .dataframe thead th {\n",
       "        text-align: right;\n",
       "    }\n",
       "</style>\n",
       "<table border=\"1\" class=\"dataframe\">\n",
       "  <thead>\n",
       "    <tr style=\"text-align: right;\">\n",
       "      <th></th>\n",
       "      <th>actual</th>\n",
       "      <th>predicted</th>\n",
       "    </tr>\n",
       "  </thead>\n",
       "  <tbody>\n",
       "    <tr>\n",
       "      <th>2016-01-31</th>\n",
       "      <td>-65639.0</td>\n",
       "      <td>-24432.527986</td>\n",
       "    </tr>\n",
       "    <tr>\n",
       "      <th>2016-02-29</th>\n",
       "      <td>-17899.0</td>\n",
       "      <td>-10556.816881</td>\n",
       "    </tr>\n",
       "    <tr>\n",
       "      <th>2016-03-31</th>\n",
       "      <td>39262.0</td>\n",
       "      <td>15852.041482</td>\n",
       "    </tr>\n",
       "    <tr>\n",
       "      <th>2016-04-30</th>\n",
       "      <td>10146.0</td>\n",
       "      <td>6984.049631</td>\n",
       "    </tr>\n",
       "    <tr>\n",
       "      <th>2016-05-31</th>\n",
       "      <td>-19314.0</td>\n",
       "      <td>-10244.327827</td>\n",
       "    </tr>\n",
       "    <tr>\n",
       "      <th>2016-06-30</th>\n",
       "      <td>-31941.0</td>\n",
       "      <td>-8431.068218</td>\n",
       "    </tr>\n",
       "    <tr>\n",
       "      <th>2016-07-31</th>\n",
       "      <td>1047.0</td>\n",
       "      <td>19052.729392</td>\n",
       "    </tr>\n",
       "    <tr>\n",
       "      <th>2016-08-31</th>\n",
       "      <td>21773.0</td>\n",
       "      <td>10309.346389</td>\n",
       "    </tr>\n",
       "    <tr>\n",
       "      <th>2016-09-30</th>\n",
       "      <td>-55574.0</td>\n",
       "      <td>-10181.737164</td>\n",
       "    </tr>\n",
       "    <tr>\n",
       "      <th>2016-10-31</th>\n",
       "      <td>23976.0</td>\n",
       "      <td>-11046.503262</td>\n",
       "    </tr>\n",
       "    <tr>\n",
       "      <th>2016-11-30</th>\n",
       "      <td>24167.0</td>\n",
       "      <td>13574.433992</td>\n",
       "    </tr>\n",
       "    <tr>\n",
       "      <th>2016-12-31</th>\n",
       "      <td>-12806.0</td>\n",
       "      <td>9517.482318</td>\n",
       "    </tr>\n",
       "  </tbody>\n",
       "</table>\n",
       "</div>"
      ],
      "text/plain": [
       "             actual     predicted\n",
       "2016-01-31 -65639.0 -24432.527986\n",
       "2016-02-29 -17899.0 -10556.816881\n",
       "2016-03-31  39262.0  15852.041482\n",
       "2016-04-30  10146.0   6984.049631\n",
       "2016-05-31 -19314.0 -10244.327827\n",
       "2016-06-30 -31941.0  -8431.068218\n",
       "2016-07-31   1047.0  19052.729392\n",
       "2016-08-31  21773.0  10309.346389\n",
       "2016-09-30 -55574.0 -10181.737164\n",
       "2016-10-31  23976.0 -11046.503262\n",
       "2016-11-30  24167.0  13574.433992\n",
       "2016-12-31 -12806.0   9517.482318"
      ]
     },
     "execution_count": 21,
     "metadata": {},
     "output_type": "execute_result"
    }
   ],
   "source": [
    "compare_df"
   ]
  },
  {
   "cell_type": "code",
   "execution_count": 22,
   "metadata": {},
   "outputs": [
    {
     "data": {
      "text/plain": [
       "<matplotlib.axes._subplots.AxesSubplot at 0xd243518>"
      ]
     },
     "execution_count": 22,
     "metadata": {},
     "output_type": "execute_result"
    },
    {
     "data": {
      "image/png": "[encoded data removed]",
      "text/plain": [
       "<Figure size 432x288 with 1 Axes>"
      ]
     },
     "metadata": {},
     "output_type": "display_data"
    }
   ],
   "source": [
    "compare_df.plot()"
   ]
  },
  {
   "cell_type": "code",
   "execution_count": 23,
   "metadata": {},
   "outputs": [
    {
     "data": {
      "text/plain": [
       "24661.1640457126"
      ]
     },
     "execution_count": 23,
     "metadata": {},
     "output_type": "execute_result"
    }
   ],
   "source": [
    "from sklearn.metrics import r2_score, mean_squared_error\n",
    "rmse = np.sqrt(mean_squared_error(data['diff'].tail(12), predictions))\n",
    "rmse"
   ]
  },
  {
   "cell_type": "markdown",
   "metadata": {},
   "source": [
    "### ARIMA"
   ]
  },
  {
   "cell_type": "code",
   "execution_count": 24,
   "metadata": {},
   "outputs": [
    {
     "data": {
      "text/html": [
       "<table class=\"simpletable\">\n",
       "<caption>ARMA Model Results</caption>\n",
       "<tr>\n",
       "  <th>Dep. Variable:</th>       <td>diff</td>       <th>  No. Observations:  </th>    <td>47</td>    \n",
       "</tr>\n",
       "<tr>\n",
       "  <th>Model:</th>            <td>ARMA(7, 2)</td>    <th>  Log Likelihood     </th> <td>-555.474</td> \n",
       "</tr>\n",
       "<tr>\n",
       "  <th>Method:</th>             <td>css-mle</td>     <th>  S.D. of innovations</th> <td>23879.956</td>\n",
       "</tr>\n",
       "<tr>\n",
       "  <th>Date:</th>          <td>Fri, 27 Nov 2020</td> <th>  AIC                </th> <td>1132.948</td> \n",
       "</tr>\n",
       "<tr>\n",
       "  <th>Time:</th>              <td>09:00:49</td>     <th>  BIC                </th> <td>1153.300</td> \n",
       "</tr>\n",
       "<tr>\n",
       "  <th>Sample:</th>           <td>02-29-2012</td>    <th>  HQIC               </th> <td>1140.606</td> \n",
       "</tr>\n",
       "<tr>\n",
       "  <th></th>                 <td>- 12-31-2015</td>   <th>                     </th>     <td> </td>    \n",
       "</tr>\n",
       "</table>\n",
       "<table class=\"simpletable\">\n",
       "<tr>\n",
       "       <td></td>         <th>coef</th>     <th>std err</th>      <th>z</th>      <th>P>|z|</th>  <th>[0.025</th>    <th>0.975]</th>  \n",
       "</tr>\n",
       "<tr>\n",
       "  <th>const</th>      <td>  100.2216</td> <td>      nan</td> <td>      nan</td> <td>   nan</td> <td>      nan</td> <td>      nan</td>\n",
       "</tr>\n",
       "<tr>\n",
       "  <th>ar.L1.diff</th> <td>   -0.5714</td> <td>      nan</td> <td>      nan</td> <td>   nan</td> <td>      nan</td> <td>      nan</td>\n",
       "</tr>\n",
       "<tr>\n",
       "  <th>ar.L2.diff</th> <td>   -0.9523</td> <td>      nan</td> <td>      nan</td> <td>   nan</td> <td>      nan</td> <td>      nan</td>\n",
       "</tr>\n",
       "<tr>\n",
       "  <th>ar.L3.diff</th> <td>   -0.3920</td> <td> 3.46e-06</td> <td>-1.13e+05</td> <td> 0.000</td> <td>   -0.392</td> <td>   -0.392</td>\n",
       "</tr>\n",
       "<tr>\n",
       "  <th>ar.L4.diff</th> <td>   -0.1217</td> <td>      nan</td> <td>      nan</td> <td>   nan</td> <td>      nan</td> <td>      nan</td>\n",
       "</tr>\n",
       "<tr>\n",
       "  <th>ar.L5.diff</th> <td>   -0.2841</td> <td>      nan</td> <td>      nan</td> <td>   nan</td> <td>      nan</td> <td>      nan</td>\n",
       "</tr>\n",
       "<tr>\n",
       "  <th>ar.L6.diff</th> <td>   -0.2286</td> <td>      nan</td> <td>      nan</td> <td>   nan</td> <td>      nan</td> <td>      nan</td>\n",
       "</tr>\n",
       "<tr>\n",
       "  <th>ar.L7.diff</th> <td>   -0.3887</td> <td>      nan</td> <td>      nan</td> <td>   nan</td> <td>      nan</td> <td>      nan</td>\n",
       "</tr>\n",
       "<tr>\n",
       "  <th>ma.L1.diff</th> <td>    0.3723</td> <td>    0.085</td> <td>    4.388</td> <td> 0.000</td> <td>    0.206</td> <td>    0.539</td>\n",
       "</tr>\n",
       "<tr>\n",
       "  <th>ma.L2.diff</th> <td>    1.0000</td> <td>    0.098</td> <td>   10.236</td> <td> 0.000</td> <td>    0.809</td> <td>    1.191</td>\n",
       "</tr>\n",
       "</table>\n",
       "<table class=\"simpletable\">\n",
       "<caption>Roots</caption>\n",
       "<tr>\n",
       "    <td></td>   <th>            Real</th>  <th>         Imaginary</th> <th>         Modulus</th>  <th>        Frequency</th>\n",
       "</tr>\n",
       "<tr>\n",
       "  <th>AR.1</th> <td>           0.9687</td> <td>          -0.7808j</td> <td>           1.2442</td> <td>          -0.1080</td>\n",
       "</tr>\n",
       "<tr>\n",
       "  <th>AR.2</th> <td>           0.9687</td> <td>          +0.7808j</td> <td>           1.2442</td> <td>           0.1080</td>\n",
       "</tr>\n",
       "<tr>\n",
       "  <th>AR.3</th> <td>          -0.0291</td> <td>          -0.9996j</td> <td>           1.0000</td> <td>          -0.2546</td>\n",
       "</tr>\n",
       "<tr>\n",
       "  <th>AR.4</th> <td>          -0.0291</td> <td>          +0.9996j</td> <td>           1.0000</td> <td>           0.2546</td>\n",
       "</tr>\n",
       "<tr>\n",
       "  <th>AR.5</th> <td>          -1.1755</td> <td>          -0.0000j</td> <td>           1.1755</td> <td>          -0.5000</td>\n",
       "</tr>\n",
       "<tr>\n",
       "  <th>AR.6</th> <td>          -0.6459</td> <td>          -0.9982j</td> <td>           1.1889</td> <td>          -0.3414</td>\n",
       "</tr>\n",
       "<tr>\n",
       "  <th>AR.7</th> <td>          -0.6459</td> <td>          +0.9982j</td> <td>           1.1889</td> <td>           0.3414</td>\n",
       "</tr>\n",
       "<tr>\n",
       "  <th>MA.1</th> <td>          -0.1861</td> <td>          -0.9825j</td> <td>           1.0000</td> <td>          -0.2798</td>\n",
       "</tr>\n",
       "<tr>\n",
       "  <th>MA.2</th> <td>          -0.1861</td> <td>          +0.9825j</td> <td>           1.0000</td> <td>           0.2798</td>\n",
       "</tr>\n",
       "</table>"
      ],
      "text/plain": [
       "<class 'statsmodels.iolib.summary.Summary'>\n",
       "\"\"\"\n",
       "                              ARMA Model Results                              \n",
       "==============================================================================\n",
       "Dep. Variable:                   diff   No. Observations:                   47\n",
       "Model:                     ARMA(7, 2)   Log Likelihood                -555.474\n",
       "Method:                       css-mle   S.D. of innovations          23879.956\n",
       "Date:                Fri, 27 Nov 2020   AIC                           1132.948\n",
       "Time:                        09:00:49   BIC                           1153.300\n",
       "Sample:                    02-29-2012   HQIC                          1140.606\n",
       "                         - 12-31-2015                                         \n",
       "==============================================================================\n",
       "                 coef    std err          z      P>|z|      [0.025      0.975]\n",
       "------------------------------------------------------------------------------\n",
       "const        100.2216        nan        nan        nan         nan         nan\n",
       "ar.L1.diff    -0.5714        nan        nan        nan         nan         nan\n",
       "ar.L2.diff    -0.9523        nan        nan        nan         nan         nan\n",
       "ar.L3.diff    -0.3920   3.46e-06  -1.13e+05      0.000      -0.392      -0.392\n",
       "ar.L4.diff    -0.1217        nan        nan        nan         nan         nan\n",
       "ar.L5.diff    -0.2841        nan        nan        nan         nan         nan\n",
       "ar.L6.diff    -0.2286        nan        nan        nan         nan         nan\n",
       "ar.L7.diff    -0.3887        nan        nan        nan         nan         nan\n",
       "ma.L1.diff     0.3723      0.085      4.388      0.000       0.206       0.539\n",
       "ma.L2.diff     1.0000      0.098     10.236      0.000       0.809       1.191\n",
       "                                    Roots                                    \n",
       "=============================================================================\n",
       "                  Real          Imaginary           Modulus         Frequency\n",
       "-----------------------------------------------------------------------------\n",
       "AR.1            0.9687           -0.7808j            1.2442           -0.1080\n",
       "AR.2            0.9687           +0.7808j            1.2442            0.1080\n",
       "AR.3           -0.0291           -0.9996j            1.0000           -0.2546\n",
       "AR.4           -0.0291           +0.9996j            1.0000            0.2546\n",
       "AR.5           -1.1755           -0.0000j            1.1755           -0.5000\n",
       "AR.6           -0.6459           -0.9982j            1.1889           -0.3414\n",
       "AR.7           -0.6459           +0.9982j            1.1889            0.3414\n",
       "MA.1           -0.1861           -0.9825j            1.0000           -0.2798\n",
       "MA.2           -0.1861           +0.9825j            1.0000            0.2798\n",
       "-----------------------------------------------------------------------------\n",
       "\"\"\""
      ]
     },
     "execution_count": 24,
     "metadata": {},
     "output_type": "execute_result"
    }
   ],
   "source": [
    "from statsmodels.tsa.arima_model import ARIMA\n",
    "\n",
    "model = ARIMA(train.dropna(), order = (7,0,2))\n",
    "model_result = model.fit(disp =0)\n",
    "model_result.summary()"
   ]
  },
  {
   "cell_type": "code",
   "execution_count": 25,
   "metadata": {},
   "outputs": [
    {
     "data": {
      "text/html": [
       "<div>\n",
       "<style scoped>\n",
       "    .dataframe tbody tr th:only-of-type {\n",
       "        vertical-align: middle;\n",
       "    }\n",
       "\n",
       "    .dataframe tbody tr th {\n",
       "        vertical-align: top;\n",
       "    }\n",
       "\n",
       "    .dataframe thead th {\n",
       "        text-align: right;\n",
       "    }\n",
       "</style>\n",
       "<table border=\"1\" class=\"dataframe\">\n",
       "  <thead>\n",
       "    <tr style=\"text-align: right;\">\n",
       "      <th></th>\n",
       "      <th>actual</th>\n",
       "      <th>predicted</th>\n",
       "    </tr>\n",
       "  </thead>\n",
       "  <tbody>\n",
       "    <tr>\n",
       "      <th>2016-01-31</th>\n",
       "      <td>-65639.0</td>\n",
       "      <td>-51178.484516</td>\n",
       "    </tr>\n",
       "    <tr>\n",
       "      <th>2016-02-29</th>\n",
       "      <td>-17899.0</td>\n",
       "      <td>11653.913370</td>\n",
       "    </tr>\n",
       "    <tr>\n",
       "      <th>2016-03-31</th>\n",
       "      <td>39262.0</td>\n",
       "      <td>23565.096085</td>\n",
       "    </tr>\n",
       "    <tr>\n",
       "      <th>2016-04-30</th>\n",
       "      <td>10146.0</td>\n",
       "      <td>-2500.568021</td>\n",
       "    </tr>\n",
       "    <tr>\n",
       "      <th>2016-05-31</th>\n",
       "      <td>-19314.0</td>\n",
       "      <td>-32637.061068</td>\n",
       "    </tr>\n",
       "  </tbody>\n",
       "</table>\n",
       "</div>"
      ],
      "text/plain": [
       "             actual     predicted\n",
       "2016-01-31 -65639.0 -51178.484516\n",
       "2016-02-29 -17899.0  11653.913370\n",
       "2016-03-31  39262.0  23565.096085\n",
       "2016-04-30  10146.0  -2500.568021\n",
       "2016-05-31 -19314.0 -32637.061068"
      ]
     },
     "execution_count": 25,
     "metadata": {},
     "output_type": "execute_result"
    }
   ],
   "source": [
    "# make predictions \n",
    "predictions = model_result.predict(start=len(train), end=len(train) + len(test)-1, dynamic=False)\n",
    "\n",
    "# create a comparison dataframe\n",
    "compare_df = pd.concat([data['diff'].tail(12),predictions], axis=1).rename(columns={'diff': 'actual', 0:'predicted'})\n",
    "compare_df.head()"
   ]
  },
  {
   "cell_type": "code",
   "execution_count": 26,
   "metadata": {},
   "outputs": [
    {
     "data": {
      "text/plain": [
       "21255.481579830983"
      ]
     },
     "execution_count": 26,
     "metadata": {},
     "output_type": "execute_result"
    }
   ],
   "source": [
    "from sklearn.metrics import r2_score, mean_squared_error\n",
    "rmse = np.sqrt(mean_squared_error(data['diff'].tail(12), predictions))\n",
    "rmse"
   ]
  },
  {
   "cell_type": "code",
   "execution_count": 27,
   "metadata": {},
   "outputs": [
    {
     "data": {
      "text/plain": [
       "[<matplotlib.lines.Line2D at 0xd560a58>]"
      ]
     },
     "execution_count": 27,
     "metadata": {},
     "output_type": "execute_result"
    },
    {
     "data": {
      "image/png": "[encoded data removed]",
      "text/plain": [
       "<Figure size 432x288 with 1 Axes>"
      ]
     },
     "metadata": {},
     "output_type": "display_data"
    }
   ],
   "source": [
    "plt.plot(train)\n",
    "plt.plot(model_result.fittedvalues)"
   ]
  },
  {
   "cell_type": "markdown",
   "metadata": {},
   "source": [
    "### Model Predictions"
   ]
  },
  {
   "cell_type": "code",
   "execution_count": 28,
   "metadata": {},
   "outputs": [
    {
     "name": "stdout",
     "output_type": "stream",
     "text": [
      "2012-02-29      100.221642\n",
      "2012-03-31    -1960.668258\n",
      "2012-04-30   -71947.974682\n",
      "2012-05-31   -52156.920088\n",
      "2012-06-30    33294.343415\n",
      "Freq: M, dtype: float64\n"
     ]
    }
   ],
   "source": [
    "arima_pred = pd.Series(model_result.fittedvalues, copy=True)\n",
    "print(arima_pred.head())"
   ]
  },
  {
   "cell_type": "code",
   "execution_count": 29,
   "metadata": {},
   "outputs": [
    {
     "name": "stdout",
     "output_type": "stream",
     "text": [
      "2012-02-29       100.221642\n",
      "2012-03-31     -1860.446616\n",
      "2012-04-30    -73808.421298\n",
      "2012-05-31   -125965.341386\n",
      "2012-06-30    -92670.997971\n",
      "Freq: M, dtype: float64\n"
     ]
    }
   ],
   "source": [
    "arima_pred_cumsum = arima_pred.cumsum()\n",
    "#data['diff'] = data['diff'].cumsum()\n",
    "print (arima_pred_cumsum.head())"
   ]
  },
  {
   "cell_type": "code",
   "execution_count": 30,
   "metadata": {},
   "outputs": [
    {
     "data": {
      "text/plain": [
       "2012-02-29    70982.221642\n",
       "2012-03-31    69021.553384\n",
       "2012-04-30    -2926.421298\n",
       "Freq: M, dtype: float64"
      ]
     },
     "execution_count": 30,
     "metadata": {},
     "output_type": "execute_result"
    }
   ],
   "source": [
    "pred_data = pd.Series(train.iloc[0], index=train.index)\n",
    "pred_data = pred_data.add(arima_pred_cumsum,fill_value=0)\n",
    "pred_data.head(3)"
   ]
  },
  {
   "cell_type": "code",
   "execution_count": 31,
   "metadata": {},
   "outputs": [],
   "source": [
    "#new_con = data['diff'].expanding(min_periods=0).sum() + data['passengers']"
   ]
  },
  {
   "cell_type": "code",
   "execution_count": 32,
   "metadata": {},
   "outputs": [
    {
     "data": {
      "text/plain": [
       "[<matplotlib.lines.Line2D at 0xd58e7f0>]"
      ]
     },
     "execution_count": 32,
     "metadata": {},
     "output_type": "execute_result"
    },
    {
     "data": {
      "image/png": "[encoded data removed]",
      "text/plain": [
       "<Figure size 432x288 with 1 Axes>"
      ]
     },
     "metadata": {},
     "output_type": "display_data"
    }
   ],
   "source": [
    "plt.plot(data.passengers)\n",
    "plt.plot(pred_data)"
   ]
  },
  {
   "cell_type": "markdown",
   "metadata": {},
   "source": [
    "### ARIMA Grid Search"
   ]
  },
  {
   "cell_type": "code",
   "execution_count": 33,
   "metadata": {},
   "outputs": [],
   "source": [
    "def evaluation(train, test,  p_values, d_values, q_values):\n",
    "    best_score, best_cfg = float(\"inf\"), None\n",
    "    for p in p_values:\n",
    "        for d in d_values:\n",
    "            for q in q_values:\n",
    "                order = (p, d, q)\n",
    "                try:\n",
    "                    model = ARIMA(train, order = (p,d,q))\n",
    "                    model_result = model.fit(disp = 0)\n",
    "                    predictions = model_result.predict(start=len(train), end=len(train) + len(test)-1, dynamic=False)\n",
    "                    rmse = np.sqrt(mean_squared_error(data['diff'].tail(12), predictions))\n",
    "                    if rmse < best_score:\n",
    "                        best_score, best_cfg = rmse, order\n",
    "                    print('ARIMA%s RMSE=%.3f' %(order, rmse))\n",
    "                except:\n",
    "                    continue\n",
    "    print(\"Best ARIMA%s RMSE=%.3f\" % (best_cfg, best_score))"
   ]
  },
  {
   "cell_type": "code",
   "execution_count": 34,
   "metadata": {},
   "outputs": [
    {
     "name": "stdout",
     "output_type": "stream",
     "text": [
      "ARIMA(0, 0, 0) RMSE=32897.475\n",
      "ARIMA(0, 0, 1) RMSE=33609.350\n",
      "ARIMA(0, 0, 2) RMSE=31116.749\n",
      "ARIMA(0, 0, 4) RMSE=31678.513\n",
      "ARIMA(0, 0, 6) RMSE=31775.106\n",
      "ARIMA(0, 1, 0) RMSE=32168.504\n",
      "ARIMA(0, 1, 1) RMSE=28193.755\n",
      "ARIMA(0, 1, 2) RMSE=28586.782\n",
      "ARIMA(0, 1, 3) RMSE=24953.028\n",
      "ARIMA(0, 1, 4) RMSE=25770.065\n",
      "ARIMA(0, 1, 5) RMSE=25748.621\n",
      "ARIMA(0, 1, 6) RMSE=25755.112\n",
      "ARIMA(0, 1, 7) RMSE=30917.434\n",
      "ARIMA(1, 0, 0) RMSE=33029.440\n",
      "ARIMA(1, 0, 1) RMSE=30789.523\n",
      "ARIMA(1, 0, 2) RMSE=31767.618\n",
      "ARIMA(1, 0, 3) RMSE=31207.885\n",
      "ARIMA(1, 0, 4) RMSE=30193.709\n",
      "ARIMA(1, 1, 0) RMSE=31644.877\n",
      "ARIMA(2, 0, 0) RMSE=30638.406\n",
      "ARIMA(2, 0, 1) RMSE=32351.380\n",
      "ARIMA(2, 0, 2) RMSE=31861.916\n",
      "ARIMA(2, 0, 3) RMSE=30132.987\n",
      "ARIMA(2, 1, 0) RMSE=29556.661\n",
      "ARIMA(2, 1, 1) RMSE=25078.281\n",
      "ARIMA(2, 1, 2) RMSE=26477.858\n",
      "ARIMA(2, 1, 3) RMSE=25455.434\n",
      "ARIMA(3, 0, 0) RMSE=30598.185\n",
      "ARIMA(3, 0, 1) RMSE=31301.529\n",
      "ARIMA(3, 1, 0) RMSE=26594.504\n",
      "ARIMA(3, 1, 1) RMSE=24872.844\n",
      "ARIMA(3, 1, 2) RMSE=24938.776\n",
      "ARIMA(4, 0, 0) RMSE=31622.261\n",
      "ARIMA(4, 0, 3) RMSE=26917.255\n",
      "ARIMA(4, 1, 0) RMSE=26286.143\n",
      "ARIMA(4, 1, 1) RMSE=25594.804\n",
      "ARIMA(4, 1, 2) RMSE=25168.314\n",
      "ARIMA(5, 0, 0) RMSE=30854.267\n",
      "ARIMA(5, 0, 1) RMSE=30961.784\n",
      "ARIMA(5, 0, 2) RMSE=30945.345\n",
      "ARIMA(5, 1, 0) RMSE=26654.388\n",
      "ARIMA(5, 1, 1) RMSE=26162.885\n",
      "ARIMA(5, 1, 2) RMSE=24925.433\n",
      "ARIMA(6, 0, 0) RMSE=28295.518\n",
      "ARIMA(6, 0, 1) RMSE=28234.528\n",
      "ARIMA(6, 0, 2) RMSE=22051.651\n",
      "ARIMA(6, 0, 3) RMSE=31235.687\n",
      "ARIMA(6, 0, 6) RMSE=22754.644\n",
      "ARIMA(6, 1, 0) RMSE=25972.338\n",
      "ARIMA(6, 1, 1) RMSE=22048.790\n",
      "ARIMA(7, 0, 0) RMSE=28264.869\n",
      "ARIMA(7, 0, 1) RMSE=27526.374\n",
      "ARIMA(7, 0, 2) RMSE=21255.482\n",
      "ARIMA(7, 1, 0) RMSE=25282.231\n",
      "ARIMA(8, 0, 0) RMSE=28222.639\n",
      "ARIMA(8, 0, 1) RMSE=28144.265\n",
      "ARIMA(8, 0, 7) RMSE=22782.836\n",
      "ARIMA(8, 1, 0) RMSE=23111.704\n",
      "ARIMA(9, 0, 0) RMSE=27695.340\n",
      "ARIMA(9, 0, 1) RMSE=27391.107\n",
      "ARIMA(9, 0, 4) RMSE=24201.455\n",
      "ARIMA(9, 1, 0) RMSE=23104.293\n",
      "ARIMA(10, 0, 0) RMSE=26202.791\n",
      "ARIMA(10, 0, 1) RMSE=29475.898\n",
      "ARIMA(10, 0, 2) RMSE=30757.243\n",
      "ARIMA(10, 1, 0) RMSE=23106.501\n",
      "ARIMA(11, 0, 0) RMSE=29137.752\n",
      "ARIMA(11, 0, 2) RMSE=26360.005\n",
      "ARIMA(11, 1, 0) RMSE=25624.644\n",
      "ARIMA(11, 1, 1) RMSE=26047.506\n",
      "ARIMA(12, 0, 0) RMSE=24198.892\n",
      "ARIMA(12, 0, 1) RMSE=22670.865\n",
      "ARIMA(12, 1, 0) RMSE=26703.575\n",
      "Best ARIMA(7, 0, 2) RMSE=21255.482\n"
     ]
    }
   ],
   "source": [
    "p_values = range(0,13)\n",
    "d_values = range(0, 2)\n",
    "q_values = range(0, 8)\n",
    "evaluation(train, test, p_values, d_values, q_values )"
   ]
  },
  {
   "cell_type": "markdown",
   "metadata": {},
   "source": [
    "### <center> Machine Learning Approach</center>"
   ]
  },
  {
   "cell_type": "markdown",
   "metadata": {},
   "source": [
    "### Feature Enginering on the series"
   ]
  },
  {
   "cell_type": "markdown",
   "metadata": {},
   "source": [
    "- creating Date time Features"
   ]
  },
  {
   "cell_type": "code",
   "execution_count": 3,
   "metadata": {},
   "outputs": [],
   "source": [
    "data['month'] = [data.index[i].month for i in range(len(data))]\n",
    "data['day'] = [data.index[i].day for i in range(len(data))]"
   ]
  },
  {
   "cell_type": "markdown",
   "metadata": {},
   "source": [
    "- lag features"
   ]
  },
  {
   "cell_type": "code",
   "execution_count": 4,
   "metadata": {},
   "outputs": [],
   "source": [
    "data['lag1'] = data['passengers'].shift(1)"
   ]
  },
  {
   "cell_type": "code",
   "execution_count": 5,
   "metadata": {},
   "outputs": [
    {
     "data": {
      "text/html": [
       "<div>\n",
       "<style scoped>\n",
       "    .dataframe tbody tr th:only-of-type {\n",
       "        vertical-align: middle;\n",
       "    }\n",
       "\n",
       "    .dataframe tbody tr th {\n",
       "        vertical-align: top;\n",
       "    }\n",
       "\n",
       "    .dataframe thead th {\n",
       "        text-align: right;\n",
       "    }\n",
       "</style>\n",
       "<table border=\"1\" class=\"dataframe\">\n",
       "  <thead>\n",
       "    <tr style=\"text-align: right;\">\n",
       "      <th></th>\n",
       "      <th>passengers</th>\n",
       "      <th>month</th>\n",
       "      <th>day</th>\n",
       "      <th>lag1</th>\n",
       "    </tr>\n",
       "  </thead>\n",
       "  <tbody>\n",
       "    <tr>\n",
       "      <th>2012-01-31</th>\n",
       "      <td>279748</td>\n",
       "      <td>1</td>\n",
       "      <td>31</td>\n",
       "      <td>NaN</td>\n",
       "    </tr>\n",
       "    <tr>\n",
       "      <th>2012-02-29</th>\n",
       "      <td>350630</td>\n",
       "      <td>2</td>\n",
       "      <td>29</td>\n",
       "      <td>279748.0</td>\n",
       "    </tr>\n",
       "    <tr>\n",
       "      <th>2012-03-31</th>\n",
       "      <td>372514</td>\n",
       "      <td>3</td>\n",
       "      <td>31</td>\n",
       "      <td>350630.0</td>\n",
       "    </tr>\n",
       "    <tr>\n",
       "      <th>2012-04-30</th>\n",
       "      <td>381269</td>\n",
       "      <td>4</td>\n",
       "      <td>30</td>\n",
       "      <td>372514.0</td>\n",
       "    </tr>\n",
       "    <tr>\n",
       "      <th>2012-05-31</th>\n",
       "      <td>362150</td>\n",
       "      <td>5</td>\n",
       "      <td>31</td>\n",
       "      <td>381269.0</td>\n",
       "    </tr>\n",
       "  </tbody>\n",
       "</table>\n",
       "</div>"
      ],
      "text/plain": [
       "            passengers  month  day      lag1\n",
       "2012-01-31      279748      1   31       NaN\n",
       "2012-02-29      350630      2   29  279748.0\n",
       "2012-03-31      372514      3   31  350630.0\n",
       "2012-04-30      381269      4   30  372514.0\n",
       "2012-05-31      362150      5   31  381269.0"
      ]
     },
     "execution_count": 5,
     "metadata": {},
     "output_type": "execute_result"
    }
   ],
   "source": [
    "data.head()"
   ]
  },
  {
   "cell_type": "markdown",
   "metadata": {},
   "source": [
    "- rolling windows statistics [ we can also use lag1.expanding( ) ]\n",
    "- min\n",
    "- max\n",
    "- mean"
   ]
  },
  {
   "cell_type": "code",
   "execution_count": 6,
   "metadata": {},
   "outputs": [
    {
     "data": {
      "text/html": [
       "<div>\n",
       "<style scoped>\n",
       "    .dataframe tbody tr th:only-of-type {\n",
       "        vertical-align: middle;\n",
       "    }\n",
       "\n",
       "    .dataframe tbody tr th {\n",
       "        vertical-align: top;\n",
       "    }\n",
       "\n",
       "    .dataframe thead th {\n",
       "        text-align: right;\n",
       "    }\n",
       "</style>\n",
       "<table border=\"1\" class=\"dataframe\">\n",
       "  <thead>\n",
       "    <tr style=\"text-align: right;\">\n",
       "      <th></th>\n",
       "      <th>passengers</th>\n",
       "      <th>month</th>\n",
       "      <th>day</th>\n",
       "      <th>lag1</th>\n",
       "      <th>lag1_mean</th>\n",
       "      <th>lag1_max</th>\n",
       "      <th>lag1_min</th>\n",
       "    </tr>\n",
       "  </thead>\n",
       "  <tbody>\n",
       "    <tr>\n",
       "      <th>2012-01-31</th>\n",
       "      <td>279748</td>\n",
       "      <td>1</td>\n",
       "      <td>31</td>\n",
       "      <td>NaN</td>\n",
       "      <td>NaN</td>\n",
       "      <td>NaN</td>\n",
       "      <td>NaN</td>\n",
       "    </tr>\n",
       "    <tr>\n",
       "      <th>2012-02-29</th>\n",
       "      <td>350630</td>\n",
       "      <td>2</td>\n",
       "      <td>29</td>\n",
       "      <td>279748.0</td>\n",
       "      <td>NaN</td>\n",
       "      <td>NaN</td>\n",
       "      <td>NaN</td>\n",
       "    </tr>\n",
       "    <tr>\n",
       "      <th>2012-03-31</th>\n",
       "      <td>372514</td>\n",
       "      <td>3</td>\n",
       "      <td>31</td>\n",
       "      <td>350630.0</td>\n",
       "      <td>315189.0</td>\n",
       "      <td>350630.0</td>\n",
       "      <td>279748.0</td>\n",
       "    </tr>\n",
       "  </tbody>\n",
       "</table>\n",
       "</div>"
      ],
      "text/plain": [
       "            passengers  month  day      lag1  lag1_mean  lag1_max  lag1_min\n",
       "2012-01-31      279748      1   31       NaN        NaN       NaN       NaN\n",
       "2012-02-29      350630      2   29  279748.0        NaN       NaN       NaN\n",
       "2012-03-31      372514      3   31  350630.0   315189.0  350630.0  279748.0"
      ]
     },
     "execution_count": 6,
     "metadata": {},
     "output_type": "execute_result"
    }
   ],
   "source": [
    "lag1_roll = data.lag1.rolling(window = 2)\n",
    "#lag1_roll = data['passengers'].expanding()\n",
    "\n",
    "\n",
    "lag1_mean = lag1_roll.mean()\n",
    "lag1_max = lag1_roll.max()\n",
    "lag1_min = lag1_roll.min()\n",
    "\n",
    "data = pd.concat([data, lag1_mean, lag1_max, lag1_min ], axis = 1)\n",
    "data.columns = ['passengers','month', 'day', 'lag1','lag1_mean','lag1_max','lag1_min',]\n",
    "data.head(3)"
   ]
  },
  {
   "cell_type": "code",
   "execution_count": 7,
   "metadata": {},
   "outputs": [],
   "source": [
    "data.fillna(0, inplace = True)"
   ]
  },
  {
   "cell_type": "markdown",
   "metadata": {},
   "source": [
    "### Create train and test set"
   ]
  },
  {
   "cell_type": "code",
   "execution_count": 8,
   "metadata": {},
   "outputs": [
    {
     "name": "stdout",
     "output_type": "stream",
     "text": [
      "(48, 7) (12, 7)\n"
     ]
    },
    {
     "data": {
      "text/html": [
       "<div>\n",
       "<style scoped>\n",
       "    .dataframe tbody tr th:only-of-type {\n",
       "        vertical-align: middle;\n",
       "    }\n",
       "\n",
       "    .dataframe tbody tr th {\n",
       "        vertical-align: top;\n",
       "    }\n",
       "\n",
       "    .dataframe thead th {\n",
       "        text-align: right;\n",
       "    }\n",
       "</style>\n",
       "<table border=\"1\" class=\"dataframe\">\n",
       "  <thead>\n",
       "    <tr style=\"text-align: right;\">\n",
       "      <th></th>\n",
       "      <th>passengers</th>\n",
       "      <th>month</th>\n",
       "      <th>day</th>\n",
       "      <th>lag1</th>\n",
       "      <th>lag1_mean</th>\n",
       "      <th>lag1_max</th>\n",
       "      <th>lag1_min</th>\n",
       "    </tr>\n",
       "  </thead>\n",
       "  <tbody>\n",
       "    <tr>\n",
       "      <th>2012-01-31</th>\n",
       "      <td>279748</td>\n",
       "      <td>1</td>\n",
       "      <td>31</td>\n",
       "      <td>0.0</td>\n",
       "      <td>0.0</td>\n",
       "      <td>0.0</td>\n",
       "      <td>0.0</td>\n",
       "    </tr>\n",
       "    <tr>\n",
       "      <th>2012-02-29</th>\n",
       "      <td>350630</td>\n",
       "      <td>2</td>\n",
       "      <td>29</td>\n",
       "      <td>279748.0</td>\n",
       "      <td>0.0</td>\n",
       "      <td>0.0</td>\n",
       "      <td>0.0</td>\n",
       "    </tr>\n",
       "    <tr>\n",
       "      <th>2012-03-31</th>\n",
       "      <td>372514</td>\n",
       "      <td>3</td>\n",
       "      <td>31</td>\n",
       "      <td>350630.0</td>\n",
       "      <td>315189.0</td>\n",
       "      <td>350630.0</td>\n",
       "      <td>279748.0</td>\n",
       "    </tr>\n",
       "    <tr>\n",
       "      <th>2012-04-30</th>\n",
       "      <td>381269</td>\n",
       "      <td>4</td>\n",
       "      <td>30</td>\n",
       "      <td>372514.0</td>\n",
       "      <td>361572.0</td>\n",
       "      <td>372514.0</td>\n",
       "      <td>350630.0</td>\n",
       "    </tr>\n",
       "    <tr>\n",
       "      <th>2012-05-31</th>\n",
       "      <td>362150</td>\n",
       "      <td>5</td>\n",
       "      <td>31</td>\n",
       "      <td>381269.0</td>\n",
       "      <td>376891.5</td>\n",
       "      <td>381269.0</td>\n",
       "      <td>372514.0</td>\n",
       "    </tr>\n",
       "  </tbody>\n",
       "</table>\n",
       "</div>"
      ],
      "text/plain": [
       "            passengers  month  day      lag1  lag1_mean  lag1_max  lag1_min\n",
       "2012-01-31      279748      1   31       0.0        0.0       0.0       0.0\n",
       "2012-02-29      350630      2   29  279748.0        0.0       0.0       0.0\n",
       "2012-03-31      372514      3   31  350630.0   315189.0  350630.0  279748.0\n",
       "2012-04-30      381269      4   30  372514.0   361572.0  372514.0  350630.0\n",
       "2012-05-31      362150      5   31  381269.0   376891.5  381269.0  372514.0"
      ]
     },
     "execution_count": 8,
     "metadata": {},
     "output_type": "execute_result"
    }
   ],
   "source": [
    "train = data.iloc[0:48, :]\n",
    "test = data.iloc[48:, :]\n",
    "print(train.shape, test.shape)\n",
    "train.head()"
   ]
  },
  {
   "cell_type": "code",
   "execution_count": 19,
   "metadata": {},
   "outputs": [
    {
     "data": {
      "text/plain": [
       "[<matplotlib.lines.Line2D at 0x54b1128>]"
      ]
     },
     "execution_count": 19,
     "metadata": {},
     "output_type": "execute_result"
    },
    {
     "data": {
      "image/png": "[encoded data removed]",
      "text/plain": [
       "<Figure size 432x288 with 1 Axes>"
      ]
     },
     "metadata": {
      "needs_background": "light"
     },
     "output_type": "display_data"
    }
   ],
   "source": [
    "plt.plot(train.passengers.values)\n",
    "plt.plot([None for i in train.passengers.values] + [i for i in test.passengers.values])"
   ]
  },
  {
   "cell_type": "markdown",
   "metadata": {},
   "source": [
    "### Persistence Model"
   ]
  },
  {
   "cell_type": "code",
   "execution_count": 20,
   "metadata": {},
   "outputs": [
    {
     "name": "stdout",
     "output_type": "stream",
     "text": [
      "(48,) (12,)\n"
     ]
    }
   ],
   "source": [
    "x_train, y_train = train.lag1, train.passengers\n",
    "x_test, y_test = test.lag1, test.passengers\n",
    "\n",
    "print(x_train.shape, x_test.shape)"
   ]
  },
  {
   "cell_type": "code",
   "execution_count": 21,
   "metadata": {},
   "outputs": [],
   "source": [
    "# persistence model\n",
    "def model_persistence(x):\n",
    "    return x"
   ]
  },
  {
   "cell_type": "code",
   "execution_count": 22,
   "metadata": {},
   "outputs": [
    {
     "name": "stdout",
     "output_type": "stream",
     "text": [
      "Test RMSE: 32343.304\n"
     ]
    }
   ],
   "source": [
    "# walk-forward validation\n",
    "from sklearn.metrics import mean_squared_error\n",
    "\n",
    "predictions = list()\n",
    "for x in x_test:\n",
    "    yhat = model_persistence(x)\n",
    "    predictions.append(yhat)\n",
    "rmse = np.sqrt(mean_squared_error(y_test, predictions))\n",
    "print('Test RMSE: %.3f' % rmse)"
   ]
  },
  {
   "cell_type": "markdown",
   "metadata": {},
   "source": [
    "### modelling"
   ]
  },
  {
   "cell_type": "code",
   "execution_count": 23,
   "metadata": {},
   "outputs": [],
   "source": [
    "x_train, y_train = train.drop(['passengers'], axis = 1), train.passengers\n",
    "x_test, y_test = test.drop(['passengers'], axis = 1), test.passengers"
   ]
  },
  {
   "cell_type": "code",
   "execution_count": 24,
   "metadata": {},
   "outputs": [
    {
     "name": "stdout",
     "output_type": "stream",
     "text": [
      "(48, 6) (12, 6)\n"
     ]
    }
   ],
   "source": [
    "print(x_train.shape, x_test.shape)"
   ]
  },
  {
   "cell_type": "code",
   "execution_count": 25,
   "metadata": {},
   "outputs": [],
   "source": [
    "from sklearn.ensemble import GradientBoostingRegressor\n",
    "import lightgbm as lgb\n",
    "from catboost import CatBoostRegressor, FeaturesData, Pool\n",
    "import xgboost as xgb\n",
    "from sklearn.ensemble import AdaBoostRegressor\n",
    "from sklearn.tree import DecisionTreeRegressor\n",
    "from sklearn.metrics import mean_squared_error, mean_absolute_error\n",
    "from sklearn.model_selection import cross_val_score, KFold\n",
    "from math import sqrt"
   ]
  },
  {
   "cell_type": "code",
   "execution_count": 26,
   "metadata": {},
   "outputs": [
    {
     "name": "stdout",
     "output_type": "stream",
     "text": [
      "32720.586697397834\n"
     ]
    }
   ],
   "source": [
    "#Gradient boost regressor \n",
    "\n",
    "params = {\"n_estimators\": 5, \"max_depth\" : 7,  \"learning_rate\": 0.001, \"random_state\":9000}\n",
    "model0 = GradientBoostingRegressor(**params)\n",
    "\n",
    "# Fit model\n",
    "\n",
    "model0.fit(x_train,y_train)\n",
    "\n",
    "# Get predictions\n",
    "\n",
    "predict = model0.predict(x_test)\n",
    "\n",
    "# Evaluation\n",
    "\n",
    "rms = sqrt(mean_squared_error(y_test, predict))\n",
    "print(rms)"
   ]
  },
  {
   "cell_type": "code",
   "execution_count": 27,
   "metadata": {},
   "outputs": [
    {
     "name": "stdout",
     "output_type": "stream",
     "text": [
      "[09:20:24] WARNING: C:/Jenkins/workspace/xgboost-win64_release_0.90/src/objective/regression_obj.cu:152: reg:linear is now deprecated in favor of reg:squarederror.\n",
      "21607.50088997914\n"
     ]
    }
   ],
   "source": [
    "#XGBoost\n",
    "# Create the model\n",
    "model2 = xgb.XGBRegressor(learning_rate=0.06,max_depth=6,n_estimators=5000,subsample=0.69898,random_state=42)\n",
    "\n",
    "# Fit the Model\n",
    "model2.fit(x_train,y_train,eval_set=[(x_train, y_train), (x_test, y_test)],early_stopping_rounds=100,  verbose=False)\n",
    "\n",
    "# Predict \n",
    "preds = model2.predict(x_test)\n",
    "\n",
    "# Evaluation \n",
    "rms = sqrt(mean_squared_error(y_test, preds))\n",
    "print(rms)"
   ]
  },
  {
   "cell_type": "code",
   "execution_count": 28,
   "metadata": {},
   "outputs": [
    {
     "name": "stdout",
     "output_type": "stream",
     "text": [
      "[1]\tvalid_0's l1: 360822\tvalid_0's l2: 1.30681e+11\tvalid_0's auc: 1\n",
      "Training until validation scores don't improve for 1000 rounds\n",
      "[2]\tvalid_0's l1: 360822\tvalid_0's l2: 1.30681e+11\tvalid_0's auc: 1\n",
      "[3]\tvalid_0's l1: 360822\tvalid_0's l2: 1.30681e+11\tvalid_0's auc: 1\n",
      "[4]\tvalid_0's l1: 360822\tvalid_0's l2: 1.30681e+11\tvalid_0's auc: 1\n",
      "[5]\tvalid_0's l1: 360822\tvalid_0's l2: 1.30681e+11\tvalid_0's auc: 1\n",
      "[6]\tvalid_0's l1: 360822\tvalid_0's l2: 1.30681e+11\tvalid_0's auc: 1\n",
      "[7]\tvalid_0's l1: 360822\tvalid_0's l2: 1.30681e+11\tvalid_0's auc: 1\n",
      "[8]\tvalid_0's l1: 360822\tvalid_0's l2: 1.30681e+11\tvalid_0's auc: 1\n",
      "[9]\tvalid_0's l1: 360822\tvalid_0's l2: 1.30681e+11\tvalid_0's auc: 1\n",
      "[10]\tvalid_0's l1: 360822\tvalid_0's l2: 1.30681e+11\tvalid_0's auc: 1\n",
      "[11]\tvalid_0's l1: 360822\tvalid_0's l2: 1.30681e+11\tvalid_0's auc: 1\n",
      "[12]\tvalid_0's l1: 360822\tvalid_0's l2: 1.30681e+11\tvalid_0's auc: 1\n",
      "[13]\tvalid_0's l1: 360822\tvalid_0's l2: 1.30681e+11\tvalid_0's auc: 1\n",
      "[14]\tvalid_0's l1: 360822\tvalid_0's l2: 1.30681e+11\tvalid_0's auc: 1\n",
      "[15]\tvalid_0's l1: 360822\tvalid_0's l2: 1.30681e+11\tvalid_0's auc: 1\n",
      "[16]\tvalid_0's l1: 360822\tvalid_0's l2: 1.30681e+11\tvalid_0's auc: 1\n",
      "[17]\tvalid_0's l1: 360822\tvalid_0's l2: 1.30681e+11\tvalid_0's auc: 1\n",
      "[18]\tvalid_0's l1: 360822\tvalid_0's l2: 1.30681e+11\tvalid_0's auc: 1\n",
      "[19]\tvalid_0's l1: 360822\tvalid_0's l2: 1.30681e+11\tvalid_0's auc: 1\n",
      "[20]\tvalid_0's l1: 360822\tvalid_0's l2: 1.30681e+11\tvalid_0's auc: 1\n",
      "[21]\tvalid_0's l1: 360822\tvalid_0's l2: 1.30681e+11\tvalid_0's auc: 1\n",
      "[22]\tvalid_0's l1: 360822\tvalid_0's l2: 1.30681e+11\tvalid_0's auc: 1\n",
      "[23]\tvalid_0's l1: 360822\tvalid_0's l2: 1.30681e+11\tvalid_0's auc: 1\n",
      "[24]\tvalid_0's l1: 360822\tvalid_0's l2: 1.30681e+11\tvalid_0's auc: 1\n",
      "[25]\tvalid_0's l1: 360822\tvalid_0's l2: 1.30681e+11\tvalid_0's auc: 1\n",
      "[26]\tvalid_0's l1: 360822\tvalid_0's l2: 1.30681e+11\tvalid_0's auc: 1\n",
      "[27]\tvalid_0's l1: 360822\tvalid_0's l2: 1.30681e+11\tvalid_0's auc: 1\n",
      "[28]\tvalid_0's l1: 360822\tvalid_0's l2: 1.30681e+11\tvalid_0's auc: 1\n",
      "[29]\tvalid_0's l1: 360822\tvalid_0's l2: 1.30681e+11\tvalid_0's auc: 1\n",
      "[30]\tvalid_0's l1: 360822\tvalid_0's l2: 1.30681e+11\tvalid_0's auc: 1\n",
      "[31]\tvalid_0's l1: 360822\tvalid_0's l2: 1.30681e+11\tvalid_0's auc: 1\n",
      "[32]\tvalid_0's l1: 360822\tvalid_0's l2: 1.30681e+11\tvalid_0's auc: 1\n",
      "[33]\tvalid_0's l1: 360822\tvalid_0's l2: 1.30681e+11\tvalid_0's auc: 1\n",
      "[34]\tvalid_0's l1: 360822\tvalid_0's l2: 1.30681e+11\tvalid_0's auc: 1\n",
      "[35]\tvalid_0's l1: 360822\tvalid_0's l2: 1.30681e+11\tvalid_0's auc: 1\n",
      "[36]\tvalid_0's l1: 360822\tvalid_0's l2: 1.30681e+11\tvalid_0's auc: 1\n",
      "[37]\tvalid_0's l1: 360822\tvalid_0's l2: 1.30681e+11\tvalid_0's auc: 1\n",
      "[38]\tvalid_0's l1: 360822\tvalid_0's l2: 1.30681e+11\tvalid_0's auc: 1\n",
      "[39]\tvalid_0's l1: 360822\tvalid_0's l2: 1.30681e+11\tvalid_0's auc: 1\n",
      "[40]\tvalid_0's l1: 360822\tvalid_0's l2: 1.30681e+11\tvalid_0's auc: 1\n",
      "[41]\tvalid_0's l1: 360822\tvalid_0's l2: 1.30681e+11\tvalid_0's auc: 1\n",
      "[42]\tvalid_0's l1: 360822\tvalid_0's l2: 1.30681e+11\tvalid_0's auc: 1\n",
      "[43]\tvalid_0's l1: 360822\tvalid_0's l2: 1.30681e+11\tvalid_0's auc: 1\n",
      "[44]\tvalid_0's l1: 360822\tvalid_0's l2: 1.30681e+11\tvalid_0's auc: 1\n",
      "[45]\tvalid_0's l1: 360822\tvalid_0's l2: 1.30681e+11\tvalid_0's auc: 1\n",
      "[46]\tvalid_0's l1: 360822\tvalid_0's l2: 1.30681e+11\tvalid_0's auc: 1\n",
      "[47]\tvalid_0's l1: 360822\tvalid_0's l2: 1.30681e+11\tvalid_0's auc: 1\n",
      "[48]\tvalid_0's l1: 360822\tvalid_0's l2: 1.30681e+11\tvalid_0's auc: 1\n",
      "[49]\tvalid_0's l1: 360822\tvalid_0's l2: 1.30681e+11\tvalid_0's auc: 1\n",
      "[50]\tvalid_0's l1: 360822\tvalid_0's l2: 1.30681e+11\tvalid_0's auc: 1\n",
      "[51]\tvalid_0's l1: 360822\tvalid_0's l2: 1.30681e+11\tvalid_0's auc: 1\n",
      "[52]\tvalid_0's l1: 360822\tvalid_0's l2: 1.30681e+11\tvalid_0's auc: 1\n",
      "[53]\tvalid_0's l1: 360822\tvalid_0's l2: 1.30681e+11\tvalid_0's auc: 1\n",
      "[54]\tvalid_0's l1: 360822\tvalid_0's l2: 1.30681e+11\tvalid_0's auc: 1\n",
      "[55]\tvalid_0's l1: 360822\tvalid_0's l2: 1.30681e+11\tvalid_0's auc: 1\n",
      "[56]\tvalid_0's l1: 360822\tvalid_0's l2: 1.30681e+11\tvalid_0's auc: 1\n",
      "[57]\tvalid_0's l1: 360822\tvalid_0's l2: 1.30681e+11\tvalid_0's auc: 1\n",
      "[58]\tvalid_0's l1: 360822\tvalid_0's l2: 1.30681e+11\tvalid_0's auc: 1\n",
      "[59]\tvalid_0's l1: 360822\tvalid_0's l2: 1.30681e+11\tvalid_0's auc: 1\n",
      "[60]\tvalid_0's l1: 360822\tvalid_0's l2: 1.30681e+11\tvalid_0's auc: 1\n",
      "[61]\tvalid_0's l1: 360822\tvalid_0's l2: 1.30681e+11\tvalid_0's auc: 1\n",
      "[62]\tvalid_0's l1: 360822\tvalid_0's l2: 1.30681e+11\tvalid_0's auc: 1\n",
      "[63]\tvalid_0's l1: 360822\tvalid_0's l2: 1.30681e+11\tvalid_0's auc: 1\n",
      "[64]\tvalid_0's l1: 360822\tvalid_0's l2: 1.30681e+11\tvalid_0's auc: 1\n",
      "[65]\tvalid_0's l1: 360822\tvalid_0's l2: 1.30681e+11\tvalid_0's auc: 1\n",
      "[66]\tvalid_0's l1: 360822\tvalid_0's l2: 1.30681e+11\tvalid_0's auc: 1\n",
      "[67]\tvalid_0's l1: 360822\tvalid_0's l2: 1.30681e+11\tvalid_0's auc: 1\n",
      "[68]\tvalid_0's l1: 360822\tvalid_0's l2: 1.30681e+11\tvalid_0's auc: 1\n",
      "[69]\tvalid_0's l1: 360822\tvalid_0's l2: 1.30681e+11\tvalid_0's auc: 1\n",
      "[70]\tvalid_0's l1: 360822\tvalid_0's l2: 1.30681e+11\tvalid_0's auc: 1\n",
      "[71]\tvalid_0's l1: 360822\tvalid_0's l2: 1.30681e+11\tvalid_0's auc: 1\n",
      "[72]\tvalid_0's l1: 360822\tvalid_0's l2: 1.30681e+11\tvalid_0's auc: 1\n",
      "[73]\tvalid_0's l1: 360822\tvalid_0's l2: 1.30681e+11\tvalid_0's auc: 1\n",
      "[74]\tvalid_0's l1: 360822\tvalid_0's l2: 1.30681e+11\tvalid_0's auc: 1\n",
      "[75]\tvalid_0's l1: 360822\tvalid_0's l2: 1.30681e+11\tvalid_0's auc: 1\n",
      "[76]\tvalid_0's l1: 360822\tvalid_0's l2: 1.30681e+11\tvalid_0's auc: 1\n",
      "[77]\tvalid_0's l1: 360822\tvalid_0's l2: 1.30681e+11\tvalid_0's auc: 1\n",
      "[78]\tvalid_0's l1: 360822\tvalid_0's l2: 1.30681e+11\tvalid_0's auc: 1\n",
      "[79]\tvalid_0's l1: 360822\tvalid_0's l2: 1.30681e+11\tvalid_0's auc: 1\n",
      "[80]\tvalid_0's l1: 360822\tvalid_0's l2: 1.30681e+11\tvalid_0's auc: 1\n",
      "[81]\tvalid_0's l1: 360822\tvalid_0's l2: 1.30681e+11\tvalid_0's auc: 1\n",
      "[82]\tvalid_0's l1: 360822\tvalid_0's l2: 1.30681e+11\tvalid_0's auc: 1\n",
      "[83]\tvalid_0's l1: 360822\tvalid_0's l2: 1.30681e+11\tvalid_0's auc: 1\n",
      "[84]\tvalid_0's l1: 360822\tvalid_0's l2: 1.30681e+11\tvalid_0's auc: 1\n",
      "[85]\tvalid_0's l1: 360822\tvalid_0's l2: 1.30681e+11\tvalid_0's auc: 1\n",
      "[86]\tvalid_0's l1: 360822\tvalid_0's l2: 1.30681e+11\tvalid_0's auc: 1\n",
      "[87]\tvalid_0's l1: 360822\tvalid_0's l2: 1.30681e+11\tvalid_0's auc: 1\n",
      "[88]\tvalid_0's l1: 360822\tvalid_0's l2: 1.30681e+11\tvalid_0's auc: 1\n",
      "[89]\tvalid_0's l1: 360822\tvalid_0's l2: 1.30681e+11\tvalid_0's auc: 1\n",
      "[90]\tvalid_0's l1: 360822\tvalid_0's l2: 1.30681e+11\tvalid_0's auc: 1\n",
      "[91]\tvalid_0's l1: 360822\tvalid_0's l2: 1.30681e+11\tvalid_0's auc: 1\n",
      "[92]\tvalid_0's l1: 360822\tvalid_0's l2: 1.30681e+11\tvalid_0's auc: 1\n",
      "[93]\tvalid_0's l1: 360822\tvalid_0's l2: 1.30681e+11\tvalid_0's auc: 1\n",
      "[94]\tvalid_0's l1: 360822\tvalid_0's l2: 1.30681e+11\tvalid_0's auc: 1\n",
      "[95]\tvalid_0's l1: 360822\tvalid_0's l2: 1.30681e+11\tvalid_0's auc: 1\n",
      "[96]\tvalid_0's l1: 360822\tvalid_0's l2: 1.30681e+11\tvalid_0's auc: 1\n",
      "[97]\tvalid_0's l1: 360822\tvalid_0's l2: 1.30681e+11\tvalid_0's auc: 1\n",
      "[98]\tvalid_0's l1: 360822\tvalid_0's l2: 1.30681e+11\tvalid_0's auc: 1\n",
      "[99]\tvalid_0's l1: 360822\tvalid_0's l2: 1.30681e+11\tvalid_0's auc: 1\n",
      "[100]\tvalid_0's l1: 360822\tvalid_0's l2: 1.30681e+11\tvalid_0's auc: 1\n",
      "[101]\tvalid_0's l1: 360822\tvalid_0's l2: 1.30681e+11\tvalid_0's auc: 1\n",
      "[102]\tvalid_0's l1: 360822\tvalid_0's l2: 1.30681e+11\tvalid_0's auc: 1\n",
      "[103]\tvalid_0's l1: 360822\tvalid_0's l2: 1.30681e+11\tvalid_0's auc: 1\n",
      "[104]\tvalid_0's l1: 360822\tvalid_0's l2: 1.30681e+11\tvalid_0's auc: 1\n",
      "[105]\tvalid_0's l1: 360822\tvalid_0's l2: 1.30681e+11\tvalid_0's auc: 1\n",
      "[106]\tvalid_0's l1: 360822\tvalid_0's l2: 1.30681e+11\tvalid_0's auc: 1\n",
      "[107]\tvalid_0's l1: 360822\tvalid_0's l2: 1.30681e+11\tvalid_0's auc: 1\n",
      "[108]\tvalid_0's l1: 360822\tvalid_0's l2: 1.30681e+11\tvalid_0's auc: 1\n",
      "[109]\tvalid_0's l1: 360822\tvalid_0's l2: 1.30681e+11\tvalid_0's auc: 1\n",
      "[110]\tvalid_0's l1: 360822\tvalid_0's l2: 1.30681e+11\tvalid_0's auc: 1\n",
      "[111]\tvalid_0's l1: 360822\tvalid_0's l2: 1.30681e+11\tvalid_0's auc: 1\n",
      "[112]\tvalid_0's l1: 360822\tvalid_0's l2: 1.30681e+11\tvalid_0's auc: 1\n",
      "[113]\tvalid_0's l1: 360822\tvalid_0's l2: 1.30681e+11\tvalid_0's auc: 1\n",
      "[114]\tvalid_0's l1: 360822\tvalid_0's l2: 1.30681e+11\tvalid_0's auc: 1\n",
      "[115]\tvalid_0's l1: 360822\tvalid_0's l2: 1.30681e+11\tvalid_0's auc: 1\n",
      "[116]\tvalid_0's l1: 360822\tvalid_0's l2: 1.30681e+11\tvalid_0's auc: 1\n",
      "[117]\tvalid_0's l1: 360822\tvalid_0's l2: 1.30681e+11\tvalid_0's auc: 1\n",
      "[118]\tvalid_0's l1: 360822\tvalid_0's l2: 1.30681e+11\tvalid_0's auc: 1\n",
      "[119]\tvalid_0's l1: 360822\tvalid_0's l2: 1.30681e+11\tvalid_0's auc: 1\n",
      "[120]\tvalid_0's l1: 360822\tvalid_0's l2: 1.30681e+11\tvalid_0's auc: 1\n",
      "[121]\tvalid_0's l1: 360822\tvalid_0's l2: 1.30681e+11\tvalid_0's auc: 1\n",
      "[122]\tvalid_0's l1: 360822\tvalid_0's l2: 1.30681e+11\tvalid_0's auc: 1\n",
      "[123]\tvalid_0's l1: 360822\tvalid_0's l2: 1.30681e+11\tvalid_0's auc: 1\n",
      "[124]\tvalid_0's l1: 360822\tvalid_0's l2: 1.30681e+11\tvalid_0's auc: 1\n",
      "[125]\tvalid_0's l1: 360822\tvalid_0's l2: 1.30681e+11\tvalid_0's auc: 1\n",
      "[126]\tvalid_0's l1: 360822\tvalid_0's l2: 1.30681e+11\tvalid_0's auc: 1\n",
      "[127]\tvalid_0's l1: 360822\tvalid_0's l2: 1.30681e+11\tvalid_0's auc: 1\n",
      "[128]\tvalid_0's l1: 360822\tvalid_0's l2: 1.30681e+11\tvalid_0's auc: 1\n",
      "[129]\tvalid_0's l1: 360822\tvalid_0's l2: 1.30681e+11\tvalid_0's auc: 1\n",
      "[130]\tvalid_0's l1: 360822\tvalid_0's l2: 1.30681e+11\tvalid_0's auc: 1\n",
      "[131]\tvalid_0's l1: 360822\tvalid_0's l2: 1.30681e+11\tvalid_0's auc: 1\n",
      "[132]\tvalid_0's l1: 360822\tvalid_0's l2: 1.30681e+11\tvalid_0's auc: 1\n",
      "[133]\tvalid_0's l1: 360822\tvalid_0's l2: 1.30681e+11\tvalid_0's auc: 1\n",
      "[134]\tvalid_0's l1: 360822\tvalid_0's l2: 1.30681e+11\tvalid_0's auc: 1\n",
      "[135]\tvalid_0's l1: 360822\tvalid_0's l2: 1.30681e+11\tvalid_0's auc: 1\n",
      "[136]\tvalid_0's l1: 360822\tvalid_0's l2: 1.30681e+11\tvalid_0's auc: 1\n",
      "[137]\tvalid_0's l1: 360822\tvalid_0's l2: 1.30681e+11\tvalid_0's auc: 1\n",
      "[138]\tvalid_0's l1: 360822\tvalid_0's l2: 1.30681e+11\tvalid_0's auc: 1\n",
      "[139]\tvalid_0's l1: 360822\tvalid_0's l2: 1.30681e+11\tvalid_0's auc: 1\n",
      "[140]\tvalid_0's l1: 360822\tvalid_0's l2: 1.30681e+11\tvalid_0's auc: 1\n",
      "[141]\tvalid_0's l1: 360822\tvalid_0's l2: 1.30681e+11\tvalid_0's auc: 1\n",
      "[142]\tvalid_0's l1: 360822\tvalid_0's l2: 1.30681e+11\tvalid_0's auc: 1\n",
      "[143]\tvalid_0's l1: 360822\tvalid_0's l2: 1.30681e+11\tvalid_0's auc: 1\n",
      "[144]\tvalid_0's l1: 360822\tvalid_0's l2: 1.30681e+11\tvalid_0's auc: 1\n",
      "[145]\tvalid_0's l1: 360822\tvalid_0's l2: 1.30681e+11\tvalid_0's auc: 1\n",
      "[146]\tvalid_0's l1: 360822\tvalid_0's l2: 1.30681e+11\tvalid_0's auc: 1\n",
      "[147]\tvalid_0's l1: 360822\tvalid_0's l2: 1.30681e+11\tvalid_0's auc: 1\n",
      "[148]\tvalid_0's l1: 360822\tvalid_0's l2: 1.30681e+11\tvalid_0's auc: 1\n",
      "[149]\tvalid_0's l1: 360822\tvalid_0's l2: 1.30681e+11\tvalid_0's auc: 1\n",
      "[150]\tvalid_0's l1: 360822\tvalid_0's l2: 1.30681e+11\tvalid_0's auc: 1\n",
      "[151]\tvalid_0's l1: 360822\tvalid_0's l2: 1.30681e+11\tvalid_0's auc: 1\n",
      "[152]\tvalid_0's l1: 360822\tvalid_0's l2: 1.30681e+11\tvalid_0's auc: 1\n",
      "[153]\tvalid_0's l1: 360822\tvalid_0's l2: 1.30681e+11\tvalid_0's auc: 1\n",
      "[154]\tvalid_0's l1: 360822\tvalid_0's l2: 1.30681e+11\tvalid_0's auc: 1\n",
      "[155]\tvalid_0's l1: 360822\tvalid_0's l2: 1.30681e+11\tvalid_0's auc: 1\n",
      "[156]\tvalid_0's l1: 360822\tvalid_0's l2: 1.30681e+11\tvalid_0's auc: 1\n",
      "[157]\tvalid_0's l1: 360822\tvalid_0's l2: 1.30681e+11\tvalid_0's auc: 1\n",
      "[158]\tvalid_0's l1: 360822\tvalid_0's l2: 1.30681e+11\tvalid_0's auc: 1\n",
      "[159]\tvalid_0's l1: 360822\tvalid_0's l2: 1.30681e+11\tvalid_0's auc: 1\n",
      "[160]\tvalid_0's l1: 360822\tvalid_0's l2: 1.30681e+11\tvalid_0's auc: 1\n",
      "[161]\tvalid_0's l1: 360822\tvalid_0's l2: 1.30681e+11\tvalid_0's auc: 1\n",
      "[162]\tvalid_0's l1: 360822\tvalid_0's l2: 1.30681e+11\tvalid_0's auc: 1\n",
      "[163]\tvalid_0's l1: 360822\tvalid_0's l2: 1.30681e+11\tvalid_0's auc: 1\n",
      "[164]\tvalid_0's l1: 360822\tvalid_0's l2: 1.30681e+11\tvalid_0's auc: 1\n",
      "[165]\tvalid_0's l1: 360822\tvalid_0's l2: 1.30681e+11\tvalid_0's auc: 1\n",
      "[166]\tvalid_0's l1: 360822\tvalid_0's l2: 1.30681e+11\tvalid_0's auc: 1\n",
      "[167]\tvalid_0's l1: 360822\tvalid_0's l2: 1.30681e+11\tvalid_0's auc: 1\n",
      "[168]\tvalid_0's l1: 360822\tvalid_0's l2: 1.30681e+11\tvalid_0's auc: 1\n",
      "[169]\tvalid_0's l1: 360822\tvalid_0's l2: 1.30681e+11\tvalid_0's auc: 1\n",
      "[170]\tvalid_0's l1: 360822\tvalid_0's l2: 1.30681e+11\tvalid_0's auc: 1\n",
      "[171]\tvalid_0's l1: 360822\tvalid_0's l2: 1.30681e+11\tvalid_0's auc: 1\n",
      "[172]\tvalid_0's l1: 360822\tvalid_0's l2: 1.30681e+11\tvalid_0's auc: 1\n",
      "[173]\tvalid_0's l1: 360822\tvalid_0's l2: 1.30681e+11\tvalid_0's auc: 1\n",
      "[174]\tvalid_0's l1: 360822\tvalid_0's l2: 1.30681e+11\tvalid_0's auc: 1\n",
      "[175]\tvalid_0's l1: 360822\tvalid_0's l2: 1.30681e+11\tvalid_0's auc: 1\n",
      "[176]\tvalid_0's l1: 360822\tvalid_0's l2: 1.30681e+11\tvalid_0's auc: 1\n",
      "[177]\tvalid_0's l1: 360822\tvalid_0's l2: 1.30681e+11\tvalid_0's auc: 1\n",
      "[178]\tvalid_0's l1: 360822\tvalid_0's l2: 1.30681e+11\tvalid_0's auc: 1\n",
      "[179]\tvalid_0's l1: 360822\tvalid_0's l2: 1.30681e+11\tvalid_0's auc: 1\n",
      "[180]\tvalid_0's l1: 360822\tvalid_0's l2: 1.30681e+11\tvalid_0's auc: 1\n",
      "[181]\tvalid_0's l1: 360822\tvalid_0's l2: 1.30681e+11\tvalid_0's auc: 1\n",
      "[182]\tvalid_0's l1: 360822\tvalid_0's l2: 1.30681e+11\tvalid_0's auc: 1\n",
      "[183]\tvalid_0's l1: 360822\tvalid_0's l2: 1.30681e+11\tvalid_0's auc: 1\n",
      "[184]\tvalid_0's l1: 360822\tvalid_0's l2: 1.30681e+11\tvalid_0's auc: 1\n",
      "[185]\tvalid_0's l1: 360822\tvalid_0's l2: 1.30681e+11\tvalid_0's auc: 1\n",
      "[186]\tvalid_0's l1: 360822\tvalid_0's l2: 1.30681e+11\tvalid_0's auc: 1\n",
      "[187]\tvalid_0's l1: 360822\tvalid_0's l2: 1.30681e+11\tvalid_0's auc: 1\n",
      "[188]\tvalid_0's l1: 360822\tvalid_0's l2: 1.30681e+11\tvalid_0's auc: 1\n",
      "[189]\tvalid_0's l1: 360822\tvalid_0's l2: 1.30681e+11\tvalid_0's auc: 1\n",
      "[190]\tvalid_0's l1: 360822\tvalid_0's l2: 1.30681e+11\tvalid_0's auc: 1\n",
      "[191]\tvalid_0's l1: 360822\tvalid_0's l2: 1.30681e+11\tvalid_0's auc: 1\n",
      "[192]\tvalid_0's l1: 360822\tvalid_0's l2: 1.30681e+11\tvalid_0's auc: 1\n",
      "[193]\tvalid_0's l1: 360822\tvalid_0's l2: 1.30681e+11\tvalid_0's auc: 1\n",
      "[194]\tvalid_0's l1: 360822\tvalid_0's l2: 1.30681e+11\tvalid_0's auc: 1\n",
      "[195]\tvalid_0's l1: 360822\tvalid_0's l2: 1.30681e+11\tvalid_0's auc: 1\n",
      "[196]\tvalid_0's l1: 360822\tvalid_0's l2: 1.30681e+11\tvalid_0's auc: 1\n",
      "[197]\tvalid_0's l1: 360822\tvalid_0's l2: 1.30681e+11\tvalid_0's auc: 1\n",
      "[198]\tvalid_0's l1: 360822\tvalid_0's l2: 1.30681e+11\tvalid_0's auc: 1\n",
      "[199]\tvalid_0's l1: 360822\tvalid_0's l2: 1.30681e+11\tvalid_0's auc: 1\n",
      "[200]\tvalid_0's l1: 360822\tvalid_0's l2: 1.30681e+11\tvalid_0's auc: 1\n",
      "[201]\tvalid_0's l1: 360822\tvalid_0's l2: 1.30681e+11\tvalid_0's auc: 1\n",
      "[202]\tvalid_0's l1: 360822\tvalid_0's l2: 1.30681e+11\tvalid_0's auc: 1\n",
      "[203]\tvalid_0's l1: 360822\tvalid_0's l2: 1.30681e+11\tvalid_0's auc: 1\n",
      "[204]\tvalid_0's l1: 360822\tvalid_0's l2: 1.30681e+11\tvalid_0's auc: 1\n",
      "[205]\tvalid_0's l1: 360822\tvalid_0's l2: 1.30681e+11\tvalid_0's auc: 1\n",
      "[206]\tvalid_0's l1: 360822\tvalid_0's l2: 1.30681e+11\tvalid_0's auc: 1\n",
      "[207]\tvalid_0's l1: 360822\tvalid_0's l2: 1.30681e+11\tvalid_0's auc: 1\n",
      "[208]\tvalid_0's l1: 360822\tvalid_0's l2: 1.30681e+11\tvalid_0's auc: 1\n",
      "[209]\tvalid_0's l1: 360822\tvalid_0's l2: 1.30681e+11\tvalid_0's auc: 1\n",
      "[210]\tvalid_0's l1: 360822\tvalid_0's l2: 1.30681e+11\tvalid_0's auc: 1\n",
      "[211]\tvalid_0's l1: 360822\tvalid_0's l2: 1.30681e+11\tvalid_0's auc: 1\n",
      "[212]\tvalid_0's l1: 360822\tvalid_0's l2: 1.30681e+11\tvalid_0's auc: 1\n",
      "[213]\tvalid_0's l1: 360822\tvalid_0's l2: 1.30681e+11\tvalid_0's auc: 1\n",
      "[214]\tvalid_0's l1: 360822\tvalid_0's l2: 1.30681e+11\tvalid_0's auc: 1\n",
      "[215]\tvalid_0's l1: 360822\tvalid_0's l2: 1.30681e+11\tvalid_0's auc: 1\n",
      "[216]\tvalid_0's l1: 360822\tvalid_0's l2: 1.30681e+11\tvalid_0's auc: 1\n",
      "[217]\tvalid_0's l1: 360822\tvalid_0's l2: 1.30681e+11\tvalid_0's auc: 1\n",
      "[218]\tvalid_0's l1: 360822\tvalid_0's l2: 1.30681e+11\tvalid_0's auc: 1\n",
      "[219]\tvalid_0's l1: 360822\tvalid_0's l2: 1.30681e+11\tvalid_0's auc: 1\n",
      "[220]\tvalid_0's l1: 360822\tvalid_0's l2: 1.30681e+11\tvalid_0's auc: 1\n",
      "[221]\tvalid_0's l1: 360822\tvalid_0's l2: 1.30681e+11\tvalid_0's auc: 1\n",
      "[222]\tvalid_0's l1: 360822\tvalid_0's l2: 1.30681e+11\tvalid_0's auc: 1\n",
      "[223]\tvalid_0's l1: 360822\tvalid_0's l2: 1.30681e+11\tvalid_0's auc: 1\n",
      "[224]\tvalid_0's l1: 360822\tvalid_0's l2: 1.30681e+11\tvalid_0's auc: 1\n",
      "[225]\tvalid_0's l1: 360822\tvalid_0's l2: 1.30681e+11\tvalid_0's auc: 1\n",
      "[226]\tvalid_0's l1: 360822\tvalid_0's l2: 1.30681e+11\tvalid_0's auc: 1\n",
      "[227]\tvalid_0's l1: 360822\tvalid_0's l2: 1.30681e+11\tvalid_0's auc: 1\n",
      "[228]\tvalid_0's l1: 360822\tvalid_0's l2: 1.30681e+11\tvalid_0's auc: 1\n",
      "[229]\tvalid_0's l1: 360822\tvalid_0's l2: 1.30681e+11\tvalid_0's auc: 1\n",
      "[230]\tvalid_0's l1: 360822\tvalid_0's l2: 1.30681e+11\tvalid_0's auc: 1\n",
      "[231]\tvalid_0's l1: 360822\tvalid_0's l2: 1.30681e+11\tvalid_0's auc: 1\n",
      "[232]\tvalid_0's l1: 360822\tvalid_0's l2: 1.30681e+11\tvalid_0's auc: 1\n",
      "[233]\tvalid_0's l1: 360822\tvalid_0's l2: 1.30681e+11\tvalid_0's auc: 1\n",
      "[234]\tvalid_0's l1: 360822\tvalid_0's l2: 1.30681e+11\tvalid_0's auc: 1\n",
      "[235]\tvalid_0's l1: 360822\tvalid_0's l2: 1.30681e+11\tvalid_0's auc: 1\n",
      "[236]\tvalid_0's l1: 360822\tvalid_0's l2: 1.30681e+11\tvalid_0's auc: 1\n",
      "[237]\tvalid_0's l1: 360822\tvalid_0's l2: 1.30681e+11\tvalid_0's auc: 1\n",
      "[238]\tvalid_0's l1: 360822\tvalid_0's l2: 1.30681e+11\tvalid_0's auc: 1\n",
      "[239]\tvalid_0's l1: 360822\tvalid_0's l2: 1.30681e+11\tvalid_0's auc: 1\n",
      "[240]\tvalid_0's l1: 360822\tvalid_0's l2: 1.30681e+11\tvalid_0's auc: 1\n",
      "[241]\tvalid_0's l1: 360822\tvalid_0's l2: 1.30681e+11\tvalid_0's auc: 1\n",
      "[242]\tvalid_0's l1: 360822\tvalid_0's l2: 1.30681e+11\tvalid_0's auc: 1\n",
      "[243]\tvalid_0's l1: 360822\tvalid_0's l2: 1.30681e+11\tvalid_0's auc: 1\n"
     ]
    },
    {
     "name": "stdout",
     "output_type": "stream",
     "text": [
      "[244]\tvalid_0's l1: 360822\tvalid_0's l2: 1.30681e+11\tvalid_0's auc: 1\n",
      "[245]\tvalid_0's l1: 360822\tvalid_0's l2: 1.30681e+11\tvalid_0's auc: 1\n",
      "[246]\tvalid_0's l1: 360822\tvalid_0's l2: 1.30681e+11\tvalid_0's auc: 1\n",
      "[247]\tvalid_0's l1: 360822\tvalid_0's l2: 1.30681e+11\tvalid_0's auc: 1\n",
      "[248]\tvalid_0's l1: 360822\tvalid_0's l2: 1.30681e+11\tvalid_0's auc: 1\n",
      "[249]\tvalid_0's l1: 360822\tvalid_0's l2: 1.30681e+11\tvalid_0's auc: 1\n",
      "[250]\tvalid_0's l1: 360822\tvalid_0's l2: 1.30681e+11\tvalid_0's auc: 1\n",
      "[251]\tvalid_0's l1: 360822\tvalid_0's l2: 1.30681e+11\tvalid_0's auc: 1\n",
      "[252]\tvalid_0's l1: 360822\tvalid_0's l2: 1.30681e+11\tvalid_0's auc: 1\n",
      "[253]\tvalid_0's l1: 360822\tvalid_0's l2: 1.30681e+11\tvalid_0's auc: 1\n",
      "[254]\tvalid_0's l1: 360822\tvalid_0's l2: 1.30681e+11\tvalid_0's auc: 1\n",
      "[255]\tvalid_0's l1: 360822\tvalid_0's l2: 1.30681e+11\tvalid_0's auc: 1\n",
      "[256]\tvalid_0's l1: 360822\tvalid_0's l2: 1.30681e+11\tvalid_0's auc: 1\n",
      "[257]\tvalid_0's l1: 360822\tvalid_0's l2: 1.30681e+11\tvalid_0's auc: 1\n",
      "[258]\tvalid_0's l1: 360822\tvalid_0's l2: 1.30681e+11\tvalid_0's auc: 1\n",
      "[259]\tvalid_0's l1: 360822\tvalid_0's l2: 1.30681e+11\tvalid_0's auc: 1\n",
      "[260]\tvalid_0's l1: 360822\tvalid_0's l2: 1.30681e+11\tvalid_0's auc: 1\n",
      "[261]\tvalid_0's l1: 360822\tvalid_0's l2: 1.30681e+11\tvalid_0's auc: 1\n",
      "[262]\tvalid_0's l1: 360822\tvalid_0's l2: 1.30681e+11\tvalid_0's auc: 1\n",
      "[263]\tvalid_0's l1: 360822\tvalid_0's l2: 1.30681e+11\tvalid_0's auc: 1\n",
      "[264]\tvalid_0's l1: 360822\tvalid_0's l2: 1.30681e+11\tvalid_0's auc: 1\n",
      "[265]\tvalid_0's l1: 360822\tvalid_0's l2: 1.30681e+11\tvalid_0's auc: 1\n",
      "[266]\tvalid_0's l1: 360822\tvalid_0's l2: 1.30681e+11\tvalid_0's auc: 1\n",
      "[267]\tvalid_0's l1: 360822\tvalid_0's l2: 1.30681e+11\tvalid_0's auc: 1\n",
      "[268]\tvalid_0's l1: 360822\tvalid_0's l2: 1.30681e+11\tvalid_0's auc: 1\n",
      "[269]\tvalid_0's l1: 360822\tvalid_0's l2: 1.30681e+11\tvalid_0's auc: 1\n",
      "[270]\tvalid_0's l1: 360822\tvalid_0's l2: 1.30681e+11\tvalid_0's auc: 1\n",
      "[271]\tvalid_0's l1: 360822\tvalid_0's l2: 1.30681e+11\tvalid_0's auc: 1\n",
      "[272]\tvalid_0's l1: 360822\tvalid_0's l2: 1.30681e+11\tvalid_0's auc: 1\n",
      "[273]\tvalid_0's l1: 360822\tvalid_0's l2: 1.30681e+11\tvalid_0's auc: 1\n",
      "[274]\tvalid_0's l1: 360822\tvalid_0's l2: 1.30681e+11\tvalid_0's auc: 1\n",
      "[275]\tvalid_0's l1: 360822\tvalid_0's l2: 1.30681e+11\tvalid_0's auc: 1\n",
      "[276]\tvalid_0's l1: 360822\tvalid_0's l2: 1.30681e+11\tvalid_0's auc: 1\n",
      "[277]\tvalid_0's l1: 360822\tvalid_0's l2: 1.30681e+11\tvalid_0's auc: 1\n",
      "[278]\tvalid_0's l1: 360822\tvalid_0's l2: 1.30681e+11\tvalid_0's auc: 1\n",
      "[279]\tvalid_0's l1: 360822\tvalid_0's l2: 1.30681e+11\tvalid_0's auc: 1\n",
      "[280]\tvalid_0's l1: 360822\tvalid_0's l2: 1.30681e+11\tvalid_0's auc: 1\n",
      "[281]\tvalid_0's l1: 360822\tvalid_0's l2: 1.30681e+11\tvalid_0's auc: 1\n",
      "[282]\tvalid_0's l1: 360822\tvalid_0's l2: 1.30681e+11\tvalid_0's auc: 1\n",
      "[283]\tvalid_0's l1: 360822\tvalid_0's l2: 1.30681e+11\tvalid_0's auc: 1\n",
      "[284]\tvalid_0's l1: 360822\tvalid_0's l2: 1.30681e+11\tvalid_0's auc: 1\n",
      "[285]\tvalid_0's l1: 360822\tvalid_0's l2: 1.30681e+11\tvalid_0's auc: 1\n",
      "[286]\tvalid_0's l1: 360822\tvalid_0's l2: 1.30681e+11\tvalid_0's auc: 1\n",
      "[287]\tvalid_0's l1: 360822\tvalid_0's l2: 1.30681e+11\tvalid_0's auc: 1\n",
      "[288]\tvalid_0's l1: 360822\tvalid_0's l2: 1.30681e+11\tvalid_0's auc: 1\n",
      "[289]\tvalid_0's l1: 360822\tvalid_0's l2: 1.30681e+11\tvalid_0's auc: 1\n",
      "[290]\tvalid_0's l1: 360822\tvalid_0's l2: 1.30681e+11\tvalid_0's auc: 1\n",
      "[291]\tvalid_0's l1: 360822\tvalid_0's l2: 1.30681e+11\tvalid_0's auc: 1\n",
      "[292]\tvalid_0's l1: 360822\tvalid_0's l2: 1.30681e+11\tvalid_0's auc: 1\n",
      "[293]\tvalid_0's l1: 360822\tvalid_0's l2: 1.30681e+11\tvalid_0's auc: 1\n",
      "[294]\tvalid_0's l1: 360822\tvalid_0's l2: 1.30681e+11\tvalid_0's auc: 1\n",
      "[295]\tvalid_0's l1: 360822\tvalid_0's l2: 1.30681e+11\tvalid_0's auc: 1\n",
      "[296]\tvalid_0's l1: 360822\tvalid_0's l2: 1.30681e+11\tvalid_0's auc: 1\n",
      "[297]\tvalid_0's l1: 360822\tvalid_0's l2: 1.30681e+11\tvalid_0's auc: 1\n",
      "[298]\tvalid_0's l1: 360822\tvalid_0's l2: 1.30681e+11\tvalid_0's auc: 1\n",
      "[299]\tvalid_0's l1: 360822\tvalid_0's l2: 1.30681e+11\tvalid_0's auc: 1\n",
      "[300]\tvalid_0's l1: 360822\tvalid_0's l2: 1.30681e+11\tvalid_0's auc: 1\n",
      "[301]\tvalid_0's l1: 360822\tvalid_0's l2: 1.30681e+11\tvalid_0's auc: 1\n",
      "[302]\tvalid_0's l1: 360822\tvalid_0's l2: 1.30681e+11\tvalid_0's auc: 1\n",
      "[303]\tvalid_0's l1: 360822\tvalid_0's l2: 1.30681e+11\tvalid_0's auc: 1\n",
      "[304]\tvalid_0's l1: 360822\tvalid_0's l2: 1.30681e+11\tvalid_0's auc: 1\n",
      "[305]\tvalid_0's l1: 360822\tvalid_0's l2: 1.30681e+11\tvalid_0's auc: 1\n",
      "[306]\tvalid_0's l1: 360822\tvalid_0's l2: 1.30681e+11\tvalid_0's auc: 1\n",
      "[307]\tvalid_0's l1: 360822\tvalid_0's l2: 1.30681e+11\tvalid_0's auc: 1\n",
      "[308]\tvalid_0's l1: 360822\tvalid_0's l2: 1.30681e+11\tvalid_0's auc: 1\n",
      "[309]\tvalid_0's l1: 360822\tvalid_0's l2: 1.30681e+11\tvalid_0's auc: 1\n",
      "[310]\tvalid_0's l1: 360822\tvalid_0's l2: 1.30681e+11\tvalid_0's auc: 1\n",
      "[311]\tvalid_0's l1: 360822\tvalid_0's l2: 1.30681e+11\tvalid_0's auc: 1\n",
      "[312]\tvalid_0's l1: 360822\tvalid_0's l2: 1.30681e+11\tvalid_0's auc: 1\n",
      "[313]\tvalid_0's l1: 360822\tvalid_0's l2: 1.30681e+11\tvalid_0's auc: 1\n",
      "[314]\tvalid_0's l1: 360822\tvalid_0's l2: 1.30681e+11\tvalid_0's auc: 1\n",
      "[315]\tvalid_0's l1: 360822\tvalid_0's l2: 1.30681e+11\tvalid_0's auc: 1\n",
      "[316]\tvalid_0's l1: 360822\tvalid_0's l2: 1.30681e+11\tvalid_0's auc: 1\n",
      "[317]\tvalid_0's l1: 360822\tvalid_0's l2: 1.30681e+11\tvalid_0's auc: 1\n",
      "[318]\tvalid_0's l1: 360822\tvalid_0's l2: 1.30681e+11\tvalid_0's auc: 1\n",
      "[319]\tvalid_0's l1: 360822\tvalid_0's l2: 1.30681e+11\tvalid_0's auc: 1\n",
      "[320]\tvalid_0's l1: 360822\tvalid_0's l2: 1.30681e+11\tvalid_0's auc: 1\n",
      "[321]\tvalid_0's l1: 360822\tvalid_0's l2: 1.30681e+11\tvalid_0's auc: 1\n",
      "[322]\tvalid_0's l1: 360822\tvalid_0's l2: 1.30681e+11\tvalid_0's auc: 1\n",
      "[323]\tvalid_0's l1: 360822\tvalid_0's l2: 1.30681e+11\tvalid_0's auc: 1\n",
      "[324]\tvalid_0's l1: 360822\tvalid_0's l2: 1.30681e+11\tvalid_0's auc: 1\n",
      "[325]\tvalid_0's l1: 360822\tvalid_0's l2: 1.30681e+11\tvalid_0's auc: 1\n",
      "[326]\tvalid_0's l1: 360822\tvalid_0's l2: 1.30681e+11\tvalid_0's auc: 1\n",
      "[327]\tvalid_0's l1: 360822\tvalid_0's l2: 1.30681e+11\tvalid_0's auc: 1\n",
      "[328]\tvalid_0's l1: 360822\tvalid_0's l2: 1.30681e+11\tvalid_0's auc: 1\n",
      "[329]\tvalid_0's l1: 360822\tvalid_0's l2: 1.30681e+11\tvalid_0's auc: 1\n",
      "[330]\tvalid_0's l1: 360822\tvalid_0's l2: 1.30681e+11\tvalid_0's auc: 1\n",
      "[331]\tvalid_0's l1: 360822\tvalid_0's l2: 1.30681e+11\tvalid_0's auc: 1\n",
      "[332]\tvalid_0's l1: 360822\tvalid_0's l2: 1.30681e+11\tvalid_0's auc: 1\n",
      "[333]\tvalid_0's l1: 360822\tvalid_0's l2: 1.30681e+11\tvalid_0's auc: 1\n",
      "[334]\tvalid_0's l1: 360822\tvalid_0's l2: 1.30681e+11\tvalid_0's auc: 1\n",
      "[335]\tvalid_0's l1: 360822\tvalid_0's l2: 1.30681e+11\tvalid_0's auc: 1\n",
      "[336]\tvalid_0's l1: 360822\tvalid_0's l2: 1.30681e+11\tvalid_0's auc: 1\n",
      "[337]\tvalid_0's l1: 360822\tvalid_0's l2: 1.30681e+11\tvalid_0's auc: 1\n",
      "[338]\tvalid_0's l1: 360822\tvalid_0's l2: 1.30681e+11\tvalid_0's auc: 1\n",
      "[339]\tvalid_0's l1: 360822\tvalid_0's l2: 1.30681e+11\tvalid_0's auc: 1\n",
      "[340]\tvalid_0's l1: 360822\tvalid_0's l2: 1.30681e+11\tvalid_0's auc: 1\n",
      "[341]\tvalid_0's l1: 360822\tvalid_0's l2: 1.30681e+11\tvalid_0's auc: 1\n",
      "[342]\tvalid_0's l1: 360822\tvalid_0's l2: 1.30681e+11\tvalid_0's auc: 1\n",
      "[343]\tvalid_0's l1: 360822\tvalid_0's l2: 1.30681e+11\tvalid_0's auc: 1\n",
      "[344]\tvalid_0's l1: 360822\tvalid_0's l2: 1.30681e+11\tvalid_0's auc: 1\n",
      "[345]\tvalid_0's l1: 360822\tvalid_0's l2: 1.30681e+11\tvalid_0's auc: 1\n",
      "[346]\tvalid_0's l1: 360822\tvalid_0's l2: 1.30681e+11\tvalid_0's auc: 1\n",
      "[347]\tvalid_0's l1: 360822\tvalid_0's l2: 1.30681e+11\tvalid_0's auc: 1\n",
      "[348]\tvalid_0's l1: 360822\tvalid_0's l2: 1.30681e+11\tvalid_0's auc: 1\n",
      "[349]\tvalid_0's l1: 360822\tvalid_0's l2: 1.30681e+11\tvalid_0's auc: 1\n",
      "[350]\tvalid_0's l1: 360822\tvalid_0's l2: 1.30681e+11\tvalid_0's auc: 1\n",
      "[351]\tvalid_0's l1: 360822\tvalid_0's l2: 1.30681e+11\tvalid_0's auc: 1\n",
      "[352]\tvalid_0's l1: 360822\tvalid_0's l2: 1.30681e+11\tvalid_0's auc: 1\n",
      "[353]\tvalid_0's l1: 360822\tvalid_0's l2: 1.30681e+11\tvalid_0's auc: 1\n",
      "[354]\tvalid_0's l1: 360822\tvalid_0's l2: 1.30681e+11\tvalid_0's auc: 1\n",
      "[355]\tvalid_0's l1: 360822\tvalid_0's l2: 1.30681e+11\tvalid_0's auc: 1\n",
      "[356]\tvalid_0's l1: 360822\tvalid_0's l2: 1.30681e+11\tvalid_0's auc: 1\n",
      "[357]\tvalid_0's l1: 360822\tvalid_0's l2: 1.30681e+11\tvalid_0's auc: 1\n",
      "[358]\tvalid_0's l1: 360822\tvalid_0's l2: 1.30681e+11\tvalid_0's auc: 1\n",
      "[359]\tvalid_0's l1: 360822\tvalid_0's l2: 1.30681e+11\tvalid_0's auc: 1\n",
      "[360]\tvalid_0's l1: 360822\tvalid_0's l2: 1.30681e+11\tvalid_0's auc: 1\n",
      "[361]\tvalid_0's l1: 360822\tvalid_0's l2: 1.30681e+11\tvalid_0's auc: 1\n",
      "[362]\tvalid_0's l1: 360822\tvalid_0's l2: 1.30681e+11\tvalid_0's auc: 1\n",
      "[363]\tvalid_0's l1: 360822\tvalid_0's l2: 1.30681e+11\tvalid_0's auc: 1\n",
      "[364]\tvalid_0's l1: 360822\tvalid_0's l2: 1.30681e+11\tvalid_0's auc: 1\n",
      "[365]\tvalid_0's l1: 360822\tvalid_0's l2: 1.30681e+11\tvalid_0's auc: 1\n",
      "[366]\tvalid_0's l1: 360822\tvalid_0's l2: 1.30681e+11\tvalid_0's auc: 1\n",
      "[367]\tvalid_0's l1: 360822\tvalid_0's l2: 1.30681e+11\tvalid_0's auc: 1\n",
      "[368]\tvalid_0's l1: 360822\tvalid_0's l2: 1.30681e+11\tvalid_0's auc: 1\n",
      "[369]\tvalid_0's l1: 360822\tvalid_0's l2: 1.30681e+11\tvalid_0's auc: 1\n",
      "[370]\tvalid_0's l1: 360822\tvalid_0's l2: 1.30681e+11\tvalid_0's auc: 1\n",
      "[371]\tvalid_0's l1: 360822\tvalid_0's l2: 1.30681e+11\tvalid_0's auc: 1\n",
      "[372]\tvalid_0's l1: 360822\tvalid_0's l2: 1.30681e+11\tvalid_0's auc: 1\n",
      "[373]\tvalid_0's l1: 360822\tvalid_0's l2: 1.30681e+11\tvalid_0's auc: 1\n",
      "[374]\tvalid_0's l1: 360822\tvalid_0's l2: 1.30681e+11\tvalid_0's auc: 1\n",
      "[375]\tvalid_0's l1: 360822\tvalid_0's l2: 1.30681e+11\tvalid_0's auc: 1\n",
      "[376]\tvalid_0's l1: 360822\tvalid_0's l2: 1.30681e+11\tvalid_0's auc: 1\n",
      "[377]\tvalid_0's l1: 360822\tvalid_0's l2: 1.30681e+11\tvalid_0's auc: 1\n",
      "[378]\tvalid_0's l1: 360822\tvalid_0's l2: 1.30681e+11\tvalid_0's auc: 1\n",
      "[379]\tvalid_0's l1: 360822\tvalid_0's l2: 1.30681e+11\tvalid_0's auc: 1\n",
      "[380]\tvalid_0's l1: 360822\tvalid_0's l2: 1.30681e+11\tvalid_0's auc: 1\n",
      "[381]\tvalid_0's l1: 360822\tvalid_0's l2: 1.30681e+11\tvalid_0's auc: 1\n",
      "[382]\tvalid_0's l1: 360822\tvalid_0's l2: 1.30681e+11\tvalid_0's auc: 1\n",
      "[383]\tvalid_0's l1: 360822\tvalid_0's l2: 1.30681e+11\tvalid_0's auc: 1\n",
      "[384]\tvalid_0's l1: 360822\tvalid_0's l2: 1.30681e+11\tvalid_0's auc: 1\n",
      "[385]\tvalid_0's l1: 360822\tvalid_0's l2: 1.30681e+11\tvalid_0's auc: 1\n",
      "[386]\tvalid_0's l1: 360822\tvalid_0's l2: 1.30681e+11\tvalid_0's auc: 1\n",
      "[387]\tvalid_0's l1: 360822\tvalid_0's l2: 1.30681e+11\tvalid_0's auc: 1\n",
      "[388]\tvalid_0's l1: 360822\tvalid_0's l2: 1.30681e+11\tvalid_0's auc: 1\n",
      "[389]\tvalid_0's l1: 360822\tvalid_0's l2: 1.30681e+11\tvalid_0's auc: 1\n",
      "[390]\tvalid_0's l1: 360822\tvalid_0's l2: 1.30681e+11\tvalid_0's auc: 1\n",
      "[391]\tvalid_0's l1: 360822\tvalid_0's l2: 1.30681e+11\tvalid_0's auc: 1\n",
      "[392]\tvalid_0's l1: 360822\tvalid_0's l2: 1.30681e+11\tvalid_0's auc: 1\n",
      "[393]\tvalid_0's l1: 360822\tvalid_0's l2: 1.30681e+11\tvalid_0's auc: 1\n",
      "[394]\tvalid_0's l1: 360822\tvalid_0's l2: 1.30681e+11\tvalid_0's auc: 1\n",
      "[395]\tvalid_0's l1: 360822\tvalid_0's l2: 1.30681e+11\tvalid_0's auc: 1\n",
      "[396]\tvalid_0's l1: 360822\tvalid_0's l2: 1.30681e+11\tvalid_0's auc: 1\n",
      "[397]\tvalid_0's l1: 360822\tvalid_0's l2: 1.30681e+11\tvalid_0's auc: 1\n",
      "[398]\tvalid_0's l1: 360822\tvalid_0's l2: 1.30681e+11\tvalid_0's auc: 1\n",
      "[399]\tvalid_0's l1: 360822\tvalid_0's l2: 1.30681e+11\tvalid_0's auc: 1\n",
      "[400]\tvalid_0's l1: 360822\tvalid_0's l2: 1.30681e+11\tvalid_0's auc: 1\n",
      "[401]\tvalid_0's l1: 360822\tvalid_0's l2: 1.30681e+11\tvalid_0's auc: 1\n",
      "[402]\tvalid_0's l1: 360822\tvalid_0's l2: 1.30681e+11\tvalid_0's auc: 1\n",
      "[403]\tvalid_0's l1: 360822\tvalid_0's l2: 1.30681e+11\tvalid_0's auc: 1\n",
      "[404]\tvalid_0's l1: 360822\tvalid_0's l2: 1.30681e+11\tvalid_0's auc: 1\n",
      "[405]\tvalid_0's l1: 360822\tvalid_0's l2: 1.30681e+11\tvalid_0's auc: 1\n",
      "[406]\tvalid_0's l1: 360822\tvalid_0's l2: 1.30681e+11\tvalid_0's auc: 1\n",
      "[407]\tvalid_0's l1: 360822\tvalid_0's l2: 1.30681e+11\tvalid_0's auc: 1\n",
      "[408]\tvalid_0's l1: 360822\tvalid_0's l2: 1.30681e+11\tvalid_0's auc: 1\n",
      "[409]\tvalid_0's l1: 360822\tvalid_0's l2: 1.30681e+11\tvalid_0's auc: 1\n",
      "[410]\tvalid_0's l1: 360822\tvalid_0's l2: 1.30681e+11\tvalid_0's auc: 1\n",
      "[411]\tvalid_0's l1: 360822\tvalid_0's l2: 1.30681e+11\tvalid_0's auc: 1\n",
      "[412]\tvalid_0's l1: 360822\tvalid_0's l2: 1.30681e+11\tvalid_0's auc: 1\n",
      "[413]\tvalid_0's l1: 360822\tvalid_0's l2: 1.30681e+11\tvalid_0's auc: 1\n",
      "[414]\tvalid_0's l1: 360822\tvalid_0's l2: 1.30681e+11\tvalid_0's auc: 1\n",
      "[415]\tvalid_0's l1: 360822\tvalid_0's l2: 1.30681e+11\tvalid_0's auc: 1\n",
      "[416]\tvalid_0's l1: 360822\tvalid_0's l2: 1.30681e+11\tvalid_0's auc: 1\n",
      "[417]\tvalid_0's l1: 360822\tvalid_0's l2: 1.30681e+11\tvalid_0's auc: 1\n",
      "[418]\tvalid_0's l1: 360822\tvalid_0's l2: 1.30681e+11\tvalid_0's auc: 1\n",
      "[419]\tvalid_0's l1: 360822\tvalid_0's l2: 1.30681e+11\tvalid_0's auc: 1\n",
      "[420]\tvalid_0's l1: 360822\tvalid_0's l2: 1.30681e+11\tvalid_0's auc: 1\n",
      "[421]\tvalid_0's l1: 360822\tvalid_0's l2: 1.30681e+11\tvalid_0's auc: 1\n",
      "[422]\tvalid_0's l1: 360822\tvalid_0's l2: 1.30681e+11\tvalid_0's auc: 1\n",
      "[423]\tvalid_0's l1: 360822\tvalid_0's l2: 1.30681e+11\tvalid_0's auc: 1\n",
      "[424]\tvalid_0's l1: 360822\tvalid_0's l2: 1.30681e+11\tvalid_0's auc: 1\n",
      "[425]\tvalid_0's l1: 360822\tvalid_0's l2: 1.30681e+11\tvalid_0's auc: 1\n",
      "[426]\tvalid_0's l1: 360822\tvalid_0's l2: 1.30681e+11\tvalid_0's auc: 1\n",
      "[427]\tvalid_0's l1: 360822\tvalid_0's l2: 1.30681e+11\tvalid_0's auc: 1\n",
      "[428]\tvalid_0's l1: 360822\tvalid_0's l2: 1.30681e+11\tvalid_0's auc: 1\n",
      "[429]\tvalid_0's l1: 360822\tvalid_0's l2: 1.30681e+11\tvalid_0's auc: 1\n",
      "[430]\tvalid_0's l1: 360822\tvalid_0's l2: 1.30681e+11\tvalid_0's auc: 1\n",
      "[431]\tvalid_0's l1: 360822\tvalid_0's l2: 1.30681e+11\tvalid_0's auc: 1\n",
      "[432]\tvalid_0's l1: 360822\tvalid_0's l2: 1.30681e+11\tvalid_0's auc: 1\n",
      "[433]\tvalid_0's l1: 360822\tvalid_0's l2: 1.30681e+11\tvalid_0's auc: 1\n",
      "[434]\tvalid_0's l1: 360822\tvalid_0's l2: 1.30681e+11\tvalid_0's auc: 1\n",
      "[435]\tvalid_0's l1: 360822\tvalid_0's l2: 1.30681e+11\tvalid_0's auc: 1\n",
      "[436]\tvalid_0's l1: 360822\tvalid_0's l2: 1.30681e+11\tvalid_0's auc: 1\n",
      "[437]\tvalid_0's l1: 360822\tvalid_0's l2: 1.30681e+11\tvalid_0's auc: 1\n",
      "[438]\tvalid_0's l1: 360822\tvalid_0's l2: 1.30681e+11\tvalid_0's auc: 1\n",
      "[439]\tvalid_0's l1: 360822\tvalid_0's l2: 1.30681e+11\tvalid_0's auc: 1\n",
      "[440]\tvalid_0's l1: 360822\tvalid_0's l2: 1.30681e+11\tvalid_0's auc: 1\n",
      "[441]\tvalid_0's l1: 360822\tvalid_0's l2: 1.30681e+11\tvalid_0's auc: 1\n",
      "[442]\tvalid_0's l1: 360822\tvalid_0's l2: 1.30681e+11\tvalid_0's auc: 1\n",
      "[443]\tvalid_0's l1: 360822\tvalid_0's l2: 1.30681e+11\tvalid_0's auc: 1\n",
      "[444]\tvalid_0's l1: 360822\tvalid_0's l2: 1.30681e+11\tvalid_0's auc: 1\n",
      "[445]\tvalid_0's l1: 360822\tvalid_0's l2: 1.30681e+11\tvalid_0's auc: 1\n",
      "[446]\tvalid_0's l1: 360822\tvalid_0's l2: 1.30681e+11\tvalid_0's auc: 1\n",
      "[447]\tvalid_0's l1: 360822\tvalid_0's l2: 1.30681e+11\tvalid_0's auc: 1\n",
      "[448]\tvalid_0's l1: 360822\tvalid_0's l2: 1.30681e+11\tvalid_0's auc: 1\n",
      "[449]\tvalid_0's l1: 360822\tvalid_0's l2: 1.30681e+11\tvalid_0's auc: 1\n",
      "[450]\tvalid_0's l1: 360822\tvalid_0's l2: 1.30681e+11\tvalid_0's auc: 1\n",
      "[451]\tvalid_0's l1: 360822\tvalid_0's l2: 1.30681e+11\tvalid_0's auc: 1\n",
      "[452]\tvalid_0's l1: 360822\tvalid_0's l2: 1.30681e+11\tvalid_0's auc: 1\n",
      "[453]\tvalid_0's l1: 360822\tvalid_0's l2: 1.30681e+11\tvalid_0's auc: 1\n",
      "[454]\tvalid_0's l1: 360822\tvalid_0's l2: 1.30681e+11\tvalid_0's auc: 1\n",
      "[455]\tvalid_0's l1: 360822\tvalid_0's l2: 1.30681e+11\tvalid_0's auc: 1\n",
      "[456]\tvalid_0's l1: 360822\tvalid_0's l2: 1.30681e+11\tvalid_0's auc: 1\n",
      "[457]\tvalid_0's l1: 360822\tvalid_0's l2: 1.30681e+11\tvalid_0's auc: 1\n",
      "[458]\tvalid_0's l1: 360822\tvalid_0's l2: 1.30681e+11\tvalid_0's auc: 1\n",
      "[459]\tvalid_0's l1: 360822\tvalid_0's l2: 1.30681e+11\tvalid_0's auc: 1\n",
      "[460]\tvalid_0's l1: 360822\tvalid_0's l2: 1.30681e+11\tvalid_0's auc: 1\n",
      "[461]\tvalid_0's l1: 360822\tvalid_0's l2: 1.30681e+11\tvalid_0's auc: 1\n",
      "[462]\tvalid_0's l1: 360822\tvalid_0's l2: 1.30681e+11\tvalid_0's auc: 1\n",
      "[463]\tvalid_0's l1: 360822\tvalid_0's l2: 1.30681e+11\tvalid_0's auc: 1\n",
      "[464]\tvalid_0's l1: 360822\tvalid_0's l2: 1.30681e+11\tvalid_0's auc: 1\n",
      "[465]\tvalid_0's l1: 360822\tvalid_0's l2: 1.30681e+11\tvalid_0's auc: 1\n",
      "[466]\tvalid_0's l1: 360822\tvalid_0's l2: 1.30681e+11\tvalid_0's auc: 1\n",
      "[467]\tvalid_0's l1: 360822\tvalid_0's l2: 1.30681e+11\tvalid_0's auc: 1\n",
      "[468]\tvalid_0's l1: 360822\tvalid_0's l2: 1.30681e+11\tvalid_0's auc: 1\n",
      "[469]\tvalid_0's l1: 360822\tvalid_0's l2: 1.30681e+11\tvalid_0's auc: 1\n",
      "[470]\tvalid_0's l1: 360822\tvalid_0's l2: 1.30681e+11\tvalid_0's auc: 1\n",
      "[471]\tvalid_0's l1: 360822\tvalid_0's l2: 1.30681e+11\tvalid_0's auc: 1\n",
      "[472]\tvalid_0's l1: 360822\tvalid_0's l2: 1.30681e+11\tvalid_0's auc: 1\n",
      "[473]\tvalid_0's l1: 360822\tvalid_0's l2: 1.30681e+11\tvalid_0's auc: 1\n",
      "[474]\tvalid_0's l1: 360822\tvalid_0's l2: 1.30681e+11\tvalid_0's auc: 1\n",
      "[475]\tvalid_0's l1: 360822\tvalid_0's l2: 1.30681e+11\tvalid_0's auc: 1\n",
      "[476]\tvalid_0's l1: 360822\tvalid_0's l2: 1.30681e+11\tvalid_0's auc: 1\n",
      "[477]\tvalid_0's l1: 360822\tvalid_0's l2: 1.30681e+11\tvalid_0's auc: 1\n",
      "[478]\tvalid_0's l1: 360822\tvalid_0's l2: 1.30681e+11\tvalid_0's auc: 1\n",
      "[479]\tvalid_0's l1: 360822\tvalid_0's l2: 1.30681e+11\tvalid_0's auc: 1\n",
      "[480]\tvalid_0's l1: 360822\tvalid_0's l2: 1.30681e+11\tvalid_0's auc: 1\n",
      "[481]\tvalid_0's l1: 360822\tvalid_0's l2: 1.30681e+11\tvalid_0's auc: 1\n",
      "[482]\tvalid_0's l1: 360822\tvalid_0's l2: 1.30681e+11\tvalid_0's auc: 1\n",
      "[483]\tvalid_0's l1: 360822\tvalid_0's l2: 1.30681e+11\tvalid_0's auc: 1\n",
      "[484]\tvalid_0's l1: 360822\tvalid_0's l2: 1.30681e+11\tvalid_0's auc: 1\n",
      "[485]\tvalid_0's l1: 360822\tvalid_0's l2: 1.30681e+11\tvalid_0's auc: 1\n",
      "[486]\tvalid_0's l1: 360822\tvalid_0's l2: 1.30681e+11\tvalid_0's auc: 1\n",
      "[487]\tvalid_0's l1: 360822\tvalid_0's l2: 1.30681e+11\tvalid_0's auc: 1\n",
      "[488]\tvalid_0's l1: 360822\tvalid_0's l2: 1.30681e+11\tvalid_0's auc: 1\n",
      "[489]\tvalid_0's l1: 360822\tvalid_0's l2: 1.30681e+11\tvalid_0's auc: 1\n",
      "[490]\tvalid_0's l1: 360822\tvalid_0's l2: 1.30681e+11\tvalid_0's auc: 1\n",
      "[491]\tvalid_0's l1: 360822\tvalid_0's l2: 1.30681e+11\tvalid_0's auc: 1\n",
      "[492]\tvalid_0's l1: 360822\tvalid_0's l2: 1.30681e+11\tvalid_0's auc: 1\n",
      "[493]\tvalid_0's l1: 360822\tvalid_0's l2: 1.30681e+11\tvalid_0's auc: 1\n",
      "[494]\tvalid_0's l1: 360822\tvalid_0's l2: 1.30681e+11\tvalid_0's auc: 1\n",
      "[495]\tvalid_0's l1: 360822\tvalid_0's l2: 1.30681e+11\tvalid_0's auc: 1\n",
      "[496]\tvalid_0's l1: 360822\tvalid_0's l2: 1.30681e+11\tvalid_0's auc: 1\n",
      "[497]\tvalid_0's l1: 360822\tvalid_0's l2: 1.30681e+11\tvalid_0's auc: 1\n",
      "[498]\tvalid_0's l1: 360822\tvalid_0's l2: 1.30681e+11\tvalid_0's auc: 1\n",
      "[499]\tvalid_0's l1: 360822\tvalid_0's l2: 1.30681e+11\tvalid_0's auc: 1\n",
      "[500]\tvalid_0's l1: 360822\tvalid_0's l2: 1.30681e+11\tvalid_0's auc: 1\n",
      "[501]\tvalid_0's l1: 360822\tvalid_0's l2: 1.30681e+11\tvalid_0's auc: 1\n",
      "[502]\tvalid_0's l1: 360822\tvalid_0's l2: 1.30681e+11\tvalid_0's auc: 1\n",
      "[503]\tvalid_0's l1: 360822\tvalid_0's l2: 1.30681e+11\tvalid_0's auc: 1\n",
      "[504]\tvalid_0's l1: 360822\tvalid_0's l2: 1.30681e+11\tvalid_0's auc: 1\n",
      "[505]\tvalid_0's l1: 360822\tvalid_0's l2: 1.30681e+11\tvalid_0's auc: 1\n",
      "[506]\tvalid_0's l1: 360822\tvalid_0's l2: 1.30681e+11\tvalid_0's auc: 1\n",
      "[507]\tvalid_0's l1: 360822\tvalid_0's l2: 1.30681e+11\tvalid_0's auc: 1\n",
      "[508]\tvalid_0's l1: 360822\tvalid_0's l2: 1.30681e+11\tvalid_0's auc: 1\n",
      "[509]\tvalid_0's l1: 360822\tvalid_0's l2: 1.30681e+11\tvalid_0's auc: 1\n",
      "[510]\tvalid_0's l1: 360822\tvalid_0's l2: 1.30681e+11\tvalid_0's auc: 1\n",
      "[511]\tvalid_0's l1: 360822\tvalid_0's l2: 1.30681e+11\tvalid_0's auc: 1\n",
      "[512]\tvalid_0's l1: 360822\tvalid_0's l2: 1.30681e+11\tvalid_0's auc: 1\n",
      "[513]\tvalid_0's l1: 360822\tvalid_0's l2: 1.30681e+11\tvalid_0's auc: 1\n",
      "[514]\tvalid_0's l1: 360822\tvalid_0's l2: 1.30681e+11\tvalid_0's auc: 1\n",
      "[515]\tvalid_0's l1: 360822\tvalid_0's l2: 1.30681e+11\tvalid_0's auc: 1\n",
      "[516]\tvalid_0's l1: 360822\tvalid_0's l2: 1.30681e+11\tvalid_0's auc: 1\n",
      "[517]\tvalid_0's l1: 360822\tvalid_0's l2: 1.30681e+11\tvalid_0's auc: 1\n",
      "[518]\tvalid_0's l1: 360822\tvalid_0's l2: 1.30681e+11\tvalid_0's auc: 1\n",
      "[519]\tvalid_0's l1: 360822\tvalid_0's l2: 1.30681e+11\tvalid_0's auc: 1\n",
      "[520]\tvalid_0's l1: 360822\tvalid_0's l2: 1.30681e+11\tvalid_0's auc: 1\n",
      "[521]\tvalid_0's l1: 360822\tvalid_0's l2: 1.30681e+11\tvalid_0's auc: 1\n",
      "[522]\tvalid_0's l1: 360822\tvalid_0's l2: 1.30681e+11\tvalid_0's auc: 1\n",
      "[523]\tvalid_0's l1: 360822\tvalid_0's l2: 1.30681e+11\tvalid_0's auc: 1\n",
      "[524]\tvalid_0's l1: 360822\tvalid_0's l2: 1.30681e+11\tvalid_0's auc: 1\n",
      "[525]\tvalid_0's l1: 360822\tvalid_0's l2: 1.30681e+11\tvalid_0's auc: 1\n",
      "[526]\tvalid_0's l1: 360822\tvalid_0's l2: 1.30681e+11\tvalid_0's auc: 1\n",
      "[527]\tvalid_0's l1: 360822\tvalid_0's l2: 1.30681e+11\tvalid_0's auc: 1\n"
     ]
    },
    {
     "name": "stdout",
     "output_type": "stream",
     "text": [
      "[528]\tvalid_0's l1: 360822\tvalid_0's l2: 1.30681e+11\tvalid_0's auc: 1\n",
      "[529]\tvalid_0's l1: 360822\tvalid_0's l2: 1.30681e+11\tvalid_0's auc: 1\n",
      "[530]\tvalid_0's l1: 360822\tvalid_0's l2: 1.30681e+11\tvalid_0's auc: 1\n",
      "[531]\tvalid_0's l1: 360822\tvalid_0's l2: 1.30681e+11\tvalid_0's auc: 1\n",
      "[532]\tvalid_0's l1: 360822\tvalid_0's l2: 1.30681e+11\tvalid_0's auc: 1\n",
      "[533]\tvalid_0's l1: 360822\tvalid_0's l2: 1.30681e+11\tvalid_0's auc: 1\n",
      "[534]\tvalid_0's l1: 360822\tvalid_0's l2: 1.30681e+11\tvalid_0's auc: 1\n",
      "[535]\tvalid_0's l1: 360822\tvalid_0's l2: 1.30681e+11\tvalid_0's auc: 1\n",
      "[536]\tvalid_0's l1: 360822\tvalid_0's l2: 1.30681e+11\tvalid_0's auc: 1\n",
      "[537]\tvalid_0's l1: 360822\tvalid_0's l2: 1.30681e+11\tvalid_0's auc: 1\n",
      "[538]\tvalid_0's l1: 360822\tvalid_0's l2: 1.30681e+11\tvalid_0's auc: 1\n",
      "[539]\tvalid_0's l1: 360822\tvalid_0's l2: 1.30681e+11\tvalid_0's auc: 1\n",
      "[540]\tvalid_0's l1: 360822\tvalid_0's l2: 1.30681e+11\tvalid_0's auc: 1\n",
      "[541]\tvalid_0's l1: 360822\tvalid_0's l2: 1.30681e+11\tvalid_0's auc: 1\n",
      "[542]\tvalid_0's l1: 360822\tvalid_0's l2: 1.30681e+11\tvalid_0's auc: 1\n",
      "[543]\tvalid_0's l1: 360822\tvalid_0's l2: 1.30681e+11\tvalid_0's auc: 1\n",
      "[544]\tvalid_0's l1: 360822\tvalid_0's l2: 1.30681e+11\tvalid_0's auc: 1\n",
      "[545]\tvalid_0's l1: 360822\tvalid_0's l2: 1.30681e+11\tvalid_0's auc: 1\n",
      "[546]\tvalid_0's l1: 360822\tvalid_0's l2: 1.30681e+11\tvalid_0's auc: 1\n",
      "[547]\tvalid_0's l1: 360822\tvalid_0's l2: 1.30681e+11\tvalid_0's auc: 1\n",
      "[548]\tvalid_0's l1: 360822\tvalid_0's l2: 1.30681e+11\tvalid_0's auc: 1\n",
      "[549]\tvalid_0's l1: 360822\tvalid_0's l2: 1.30681e+11\tvalid_0's auc: 1\n",
      "[550]\tvalid_0's l1: 360822\tvalid_0's l2: 1.30681e+11\tvalid_0's auc: 1\n",
      "[551]\tvalid_0's l1: 360822\tvalid_0's l2: 1.30681e+11\tvalid_0's auc: 1\n",
      "[552]\tvalid_0's l1: 360822\tvalid_0's l2: 1.30681e+11\tvalid_0's auc: 1\n",
      "[553]\tvalid_0's l1: 360822\tvalid_0's l2: 1.30681e+11\tvalid_0's auc: 1\n",
      "[554]\tvalid_0's l1: 360822\tvalid_0's l2: 1.30681e+11\tvalid_0's auc: 1\n",
      "[555]\tvalid_0's l1: 360822\tvalid_0's l2: 1.30681e+11\tvalid_0's auc: 1\n",
      "[556]\tvalid_0's l1: 360822\tvalid_0's l2: 1.30681e+11\tvalid_0's auc: 1\n",
      "[557]\tvalid_0's l1: 360822\tvalid_0's l2: 1.30681e+11\tvalid_0's auc: 1\n",
      "[558]\tvalid_0's l1: 360822\tvalid_0's l2: 1.30681e+11\tvalid_0's auc: 1\n",
      "[559]\tvalid_0's l1: 360822\tvalid_0's l2: 1.30681e+11\tvalid_0's auc: 1\n",
      "[560]\tvalid_0's l1: 360822\tvalid_0's l2: 1.30681e+11\tvalid_0's auc: 1\n",
      "[561]\tvalid_0's l1: 360822\tvalid_0's l2: 1.30681e+11\tvalid_0's auc: 1\n",
      "[562]\tvalid_0's l1: 360822\tvalid_0's l2: 1.30681e+11\tvalid_0's auc: 1\n",
      "[563]\tvalid_0's l1: 360822\tvalid_0's l2: 1.30681e+11\tvalid_0's auc: 1\n",
      "[564]\tvalid_0's l1: 360822\tvalid_0's l2: 1.30681e+11\tvalid_0's auc: 1\n",
      "[565]\tvalid_0's l1: 360822\tvalid_0's l2: 1.30681e+11\tvalid_0's auc: 1\n",
      "[566]\tvalid_0's l1: 360822\tvalid_0's l2: 1.30681e+11\tvalid_0's auc: 1\n",
      "[567]\tvalid_0's l1: 360822\tvalid_0's l2: 1.30681e+11\tvalid_0's auc: 1\n",
      "[568]\tvalid_0's l1: 360822\tvalid_0's l2: 1.30681e+11\tvalid_0's auc: 1\n",
      "[569]\tvalid_0's l1: 360822\tvalid_0's l2: 1.30681e+11\tvalid_0's auc: 1\n",
      "[570]\tvalid_0's l1: 360822\tvalid_0's l2: 1.30681e+11\tvalid_0's auc: 1\n",
      "[571]\tvalid_0's l1: 360822\tvalid_0's l2: 1.30681e+11\tvalid_0's auc: 1\n",
      "[572]\tvalid_0's l1: 360822\tvalid_0's l2: 1.30681e+11\tvalid_0's auc: 1\n",
      "[573]\tvalid_0's l1: 360822\tvalid_0's l2: 1.30681e+11\tvalid_0's auc: 1\n",
      "[574]\tvalid_0's l1: 360822\tvalid_0's l2: 1.30681e+11\tvalid_0's auc: 1\n",
      "[575]\tvalid_0's l1: 360822\tvalid_0's l2: 1.30681e+11\tvalid_0's auc: 1\n",
      "[576]\tvalid_0's l1: 360822\tvalid_0's l2: 1.30681e+11\tvalid_0's auc: 1\n",
      "[577]\tvalid_0's l1: 360822\tvalid_0's l2: 1.30681e+11\tvalid_0's auc: 1\n",
      "[578]\tvalid_0's l1: 360822\tvalid_0's l2: 1.30681e+11\tvalid_0's auc: 1\n",
      "[579]\tvalid_0's l1: 360822\tvalid_0's l2: 1.30681e+11\tvalid_0's auc: 1\n",
      "[580]\tvalid_0's l1: 360822\tvalid_0's l2: 1.30681e+11\tvalid_0's auc: 1\n",
      "[581]\tvalid_0's l1: 360822\tvalid_0's l2: 1.30681e+11\tvalid_0's auc: 1\n",
      "[582]\tvalid_0's l1: 360822\tvalid_0's l2: 1.30681e+11\tvalid_0's auc: 1\n",
      "[583]\tvalid_0's l1: 360822\tvalid_0's l2: 1.30681e+11\tvalid_0's auc: 1\n",
      "[584]\tvalid_0's l1: 360822\tvalid_0's l2: 1.30681e+11\tvalid_0's auc: 1\n",
      "[585]\tvalid_0's l1: 360822\tvalid_0's l2: 1.30681e+11\tvalid_0's auc: 1\n",
      "[586]\tvalid_0's l1: 360822\tvalid_0's l2: 1.30681e+11\tvalid_0's auc: 1\n",
      "[587]\tvalid_0's l1: 360822\tvalid_0's l2: 1.30681e+11\tvalid_0's auc: 1\n",
      "[588]\tvalid_0's l1: 360822\tvalid_0's l2: 1.30681e+11\tvalid_0's auc: 1\n",
      "[589]\tvalid_0's l1: 360822\tvalid_0's l2: 1.30681e+11\tvalid_0's auc: 1\n",
      "[590]\tvalid_0's l1: 360822\tvalid_0's l2: 1.30681e+11\tvalid_0's auc: 1\n",
      "[591]\tvalid_0's l1: 360822\tvalid_0's l2: 1.30681e+11\tvalid_0's auc: 1\n",
      "[592]\tvalid_0's l1: 360822\tvalid_0's l2: 1.30681e+11\tvalid_0's auc: 1\n",
      "[593]\tvalid_0's l1: 360822\tvalid_0's l2: 1.30681e+11\tvalid_0's auc: 1\n",
      "[594]\tvalid_0's l1: 360822\tvalid_0's l2: 1.30681e+11\tvalid_0's auc: 1\n",
      "[595]\tvalid_0's l1: 360822\tvalid_0's l2: 1.30681e+11\tvalid_0's auc: 1\n",
      "[596]\tvalid_0's l1: 360822\tvalid_0's l2: 1.30681e+11\tvalid_0's auc: 1\n",
      "[597]\tvalid_0's l1: 360822\tvalid_0's l2: 1.30681e+11\tvalid_0's auc: 1\n",
      "[598]\tvalid_0's l1: 360822\tvalid_0's l2: 1.30681e+11\tvalid_0's auc: 1\n",
      "[599]\tvalid_0's l1: 360822\tvalid_0's l2: 1.30681e+11\tvalid_0's auc: 1\n",
      "[600]\tvalid_0's l1: 360822\tvalid_0's l2: 1.30681e+11\tvalid_0's auc: 1\n",
      "[601]\tvalid_0's l1: 360822\tvalid_0's l2: 1.30681e+11\tvalid_0's auc: 1\n",
      "[602]\tvalid_0's l1: 360822\tvalid_0's l2: 1.30681e+11\tvalid_0's auc: 1\n",
      "[603]\tvalid_0's l1: 360822\tvalid_0's l2: 1.30681e+11\tvalid_0's auc: 1\n",
      "[604]\tvalid_0's l1: 360822\tvalid_0's l2: 1.30681e+11\tvalid_0's auc: 1\n",
      "[605]\tvalid_0's l1: 360822\tvalid_0's l2: 1.30681e+11\tvalid_0's auc: 1\n",
      "[606]\tvalid_0's l1: 360822\tvalid_0's l2: 1.30681e+11\tvalid_0's auc: 1\n",
      "[607]\tvalid_0's l1: 360822\tvalid_0's l2: 1.30681e+11\tvalid_0's auc: 1\n",
      "[608]\tvalid_0's l1: 360822\tvalid_0's l2: 1.30681e+11\tvalid_0's auc: 1\n",
      "[609]\tvalid_0's l1: 360822\tvalid_0's l2: 1.30681e+11\tvalid_0's auc: 1\n",
      "[610]\tvalid_0's l1: 360822\tvalid_0's l2: 1.30681e+11\tvalid_0's auc: 1\n",
      "[611]\tvalid_0's l1: 360822\tvalid_0's l2: 1.30681e+11\tvalid_0's auc: 1\n",
      "[612]\tvalid_0's l1: 360822\tvalid_0's l2: 1.30681e+11\tvalid_0's auc: 1\n",
      "[613]\tvalid_0's l1: 360822\tvalid_0's l2: 1.30681e+11\tvalid_0's auc: 1\n",
      "[614]\tvalid_0's l1: 360822\tvalid_0's l2: 1.30681e+11\tvalid_0's auc: 1\n",
      "[615]\tvalid_0's l1: 360822\tvalid_0's l2: 1.30681e+11\tvalid_0's auc: 1\n",
      "[616]\tvalid_0's l1: 360822\tvalid_0's l2: 1.30681e+11\tvalid_0's auc: 1\n",
      "[617]\tvalid_0's l1: 360822\tvalid_0's l2: 1.30681e+11\tvalid_0's auc: 1\n",
      "[618]\tvalid_0's l1: 360822\tvalid_0's l2: 1.30681e+11\tvalid_0's auc: 1\n",
      "[619]\tvalid_0's l1: 360822\tvalid_0's l2: 1.30681e+11\tvalid_0's auc: 1\n",
      "[620]\tvalid_0's l1: 360822\tvalid_0's l2: 1.30681e+11\tvalid_0's auc: 1\n",
      "[621]\tvalid_0's l1: 360822\tvalid_0's l2: 1.30681e+11\tvalid_0's auc: 1\n",
      "[622]\tvalid_0's l1: 360822\tvalid_0's l2: 1.30681e+11\tvalid_0's auc: 1\n",
      "[623]\tvalid_0's l1: 360822\tvalid_0's l2: 1.30681e+11\tvalid_0's auc: 1\n",
      "[624]\tvalid_0's l1: 360822\tvalid_0's l2: 1.30681e+11\tvalid_0's auc: 1\n",
      "[625]\tvalid_0's l1: 360822\tvalid_0's l2: 1.30681e+11\tvalid_0's auc: 1\n",
      "[626]\tvalid_0's l1: 360822\tvalid_0's l2: 1.30681e+11\tvalid_0's auc: 1\n",
      "[627]\tvalid_0's l1: 360822\tvalid_0's l2: 1.30681e+11\tvalid_0's auc: 1\n",
      "[628]\tvalid_0's l1: 360822\tvalid_0's l2: 1.30681e+11\tvalid_0's auc: 1\n",
      "[629]\tvalid_0's l1: 360822\tvalid_0's l2: 1.30681e+11\tvalid_0's auc: 1\n",
      "[630]\tvalid_0's l1: 360822\tvalid_0's l2: 1.30681e+11\tvalid_0's auc: 1\n",
      "[631]\tvalid_0's l1: 360822\tvalid_0's l2: 1.30681e+11\tvalid_0's auc: 1\n",
      "[632]\tvalid_0's l1: 360822\tvalid_0's l2: 1.30681e+11\tvalid_0's auc: 1\n",
      "[633]\tvalid_0's l1: 360822\tvalid_0's l2: 1.30681e+11\tvalid_0's auc: 1\n",
      "[634]\tvalid_0's l1: 360822\tvalid_0's l2: 1.30681e+11\tvalid_0's auc: 1\n",
      "[635]\tvalid_0's l1: 360822\tvalid_0's l2: 1.30681e+11\tvalid_0's auc: 1\n",
      "[636]\tvalid_0's l1: 360822\tvalid_0's l2: 1.30681e+11\tvalid_0's auc: 1\n",
      "[637]\tvalid_0's l1: 360822\tvalid_0's l2: 1.30681e+11\tvalid_0's auc: 1\n",
      "[638]\tvalid_0's l1: 360822\tvalid_0's l2: 1.30681e+11\tvalid_0's auc: 1\n",
      "[639]\tvalid_0's l1: 360822\tvalid_0's l2: 1.30681e+11\tvalid_0's auc: 1\n",
      "[640]\tvalid_0's l1: 360822\tvalid_0's l2: 1.30681e+11\tvalid_0's auc: 1\n",
      "[641]\tvalid_0's l1: 360822\tvalid_0's l2: 1.30681e+11\tvalid_0's auc: 1\n",
      "[642]\tvalid_0's l1: 360822\tvalid_0's l2: 1.30681e+11\tvalid_0's auc: 1\n",
      "[643]\tvalid_0's l1: 360822\tvalid_0's l2: 1.30681e+11\tvalid_0's auc: 1\n",
      "[644]\tvalid_0's l1: 360822\tvalid_0's l2: 1.30681e+11\tvalid_0's auc: 1\n",
      "[645]\tvalid_0's l1: 360822\tvalid_0's l2: 1.30681e+11\tvalid_0's auc: 1\n",
      "[646]\tvalid_0's l1: 360822\tvalid_0's l2: 1.30681e+11\tvalid_0's auc: 1\n",
      "[647]\tvalid_0's l1: 360822\tvalid_0's l2: 1.30681e+11\tvalid_0's auc: 1\n",
      "[648]\tvalid_0's l1: 360822\tvalid_0's l2: 1.30681e+11\tvalid_0's auc: 1\n",
      "[649]\tvalid_0's l1: 360822\tvalid_0's l2: 1.30681e+11\tvalid_0's auc: 1\n",
      "[650]\tvalid_0's l1: 360822\tvalid_0's l2: 1.30681e+11\tvalid_0's auc: 1\n",
      "[651]\tvalid_0's l1: 360822\tvalid_0's l2: 1.30681e+11\tvalid_0's auc: 1\n",
      "[652]\tvalid_0's l1: 360822\tvalid_0's l2: 1.30681e+11\tvalid_0's auc: 1\n",
      "[653]\tvalid_0's l1: 360822\tvalid_0's l2: 1.30681e+11\tvalid_0's auc: 1\n",
      "[654]\tvalid_0's l1: 360822\tvalid_0's l2: 1.30681e+11\tvalid_0's auc: 1\n",
      "[655]\tvalid_0's l1: 360822\tvalid_0's l2: 1.30681e+11\tvalid_0's auc: 1\n",
      "[656]\tvalid_0's l1: 360822\tvalid_0's l2: 1.30681e+11\tvalid_0's auc: 1\n",
      "[657]\tvalid_0's l1: 360822\tvalid_0's l2: 1.30681e+11\tvalid_0's auc: 1\n",
      "[658]\tvalid_0's l1: 360822\tvalid_0's l2: 1.30681e+11\tvalid_0's auc: 1\n",
      "[659]\tvalid_0's l1: 360822\tvalid_0's l2: 1.30681e+11\tvalid_0's auc: 1\n",
      "[660]\tvalid_0's l1: 360822\tvalid_0's l2: 1.30681e+11\tvalid_0's auc: 1\n",
      "[661]\tvalid_0's l1: 360822\tvalid_0's l2: 1.30681e+11\tvalid_0's auc: 1\n",
      "[662]\tvalid_0's l1: 360822\tvalid_0's l2: 1.30681e+11\tvalid_0's auc: 1\n",
      "[663]\tvalid_0's l1: 360822\tvalid_0's l2: 1.30681e+11\tvalid_0's auc: 1\n",
      "[664]\tvalid_0's l1: 360822\tvalid_0's l2: 1.30681e+11\tvalid_0's auc: 1\n",
      "[665]\tvalid_0's l1: 360822\tvalid_0's l2: 1.30681e+11\tvalid_0's auc: 1\n",
      "[666]\tvalid_0's l1: 360822\tvalid_0's l2: 1.30681e+11\tvalid_0's auc: 1\n",
      "[667]\tvalid_0's l1: 360822\tvalid_0's l2: 1.30681e+11\tvalid_0's auc: 1\n",
      "[668]\tvalid_0's l1: 360822\tvalid_0's l2: 1.30681e+11\tvalid_0's auc: 1\n",
      "[669]\tvalid_0's l1: 360822\tvalid_0's l2: 1.30681e+11\tvalid_0's auc: 1\n",
      "[670]\tvalid_0's l1: 360822\tvalid_0's l2: 1.30681e+11\tvalid_0's auc: 1\n",
      "[671]\tvalid_0's l1: 360822\tvalid_0's l2: 1.30681e+11\tvalid_0's auc: 1\n",
      "[672]\tvalid_0's l1: 360822\tvalid_0's l2: 1.30681e+11\tvalid_0's auc: 1\n",
      "[673]\tvalid_0's l1: 360822\tvalid_0's l2: 1.30681e+11\tvalid_0's auc: 1\n",
      "[674]\tvalid_0's l1: 360822\tvalid_0's l2: 1.30681e+11\tvalid_0's auc: 1\n",
      "[675]\tvalid_0's l1: 360822\tvalid_0's l2: 1.30681e+11\tvalid_0's auc: 1\n",
      "[676]\tvalid_0's l1: 360822\tvalid_0's l2: 1.30681e+11\tvalid_0's auc: 1\n",
      "[677]\tvalid_0's l1: 360822\tvalid_0's l2: 1.30681e+11\tvalid_0's auc: 1\n",
      "[678]\tvalid_0's l1: 360822\tvalid_0's l2: 1.30681e+11\tvalid_0's auc: 1\n",
      "[679]\tvalid_0's l1: 360822\tvalid_0's l2: 1.30681e+11\tvalid_0's auc: 1\n",
      "[680]\tvalid_0's l1: 360822\tvalid_0's l2: 1.30681e+11\tvalid_0's auc: 1\n",
      "[681]\tvalid_0's l1: 360822\tvalid_0's l2: 1.30681e+11\tvalid_0's auc: 1\n",
      "[682]\tvalid_0's l1: 360822\tvalid_0's l2: 1.30681e+11\tvalid_0's auc: 1\n",
      "[683]\tvalid_0's l1: 360822\tvalid_0's l2: 1.30681e+11\tvalid_0's auc: 1\n",
      "[684]\tvalid_0's l1: 360822\tvalid_0's l2: 1.30681e+11\tvalid_0's auc: 1\n",
      "[685]\tvalid_0's l1: 360822\tvalid_0's l2: 1.30681e+11\tvalid_0's auc: 1\n",
      "[686]\tvalid_0's l1: 360822\tvalid_0's l2: 1.30681e+11\tvalid_0's auc: 1\n",
      "[687]\tvalid_0's l1: 360822\tvalid_0's l2: 1.30681e+11\tvalid_0's auc: 1\n",
      "[688]\tvalid_0's l1: 360822\tvalid_0's l2: 1.30681e+11\tvalid_0's auc: 1\n",
      "[689]\tvalid_0's l1: 360822\tvalid_0's l2: 1.30681e+11\tvalid_0's auc: 1\n",
      "[690]\tvalid_0's l1: 360822\tvalid_0's l2: 1.30681e+11\tvalid_0's auc: 1\n",
      "[691]\tvalid_0's l1: 360822\tvalid_0's l2: 1.30681e+11\tvalid_0's auc: 1\n",
      "[692]\tvalid_0's l1: 360822\tvalid_0's l2: 1.30681e+11\tvalid_0's auc: 1\n",
      "[693]\tvalid_0's l1: 360822\tvalid_0's l2: 1.30681e+11\tvalid_0's auc: 1\n",
      "[694]\tvalid_0's l1: 360822\tvalid_0's l2: 1.30681e+11\tvalid_0's auc: 1\n",
      "[695]\tvalid_0's l1: 360822\tvalid_0's l2: 1.30681e+11\tvalid_0's auc: 1\n",
      "[696]\tvalid_0's l1: 360822\tvalid_0's l2: 1.30681e+11\tvalid_0's auc: 1\n",
      "[697]\tvalid_0's l1: 360822\tvalid_0's l2: 1.30681e+11\tvalid_0's auc: 1\n",
      "[698]\tvalid_0's l1: 360822\tvalid_0's l2: 1.30681e+11\tvalid_0's auc: 1\n",
      "[699]\tvalid_0's l1: 360822\tvalid_0's l2: 1.30681e+11\tvalid_0's auc: 1\n",
      "[700]\tvalid_0's l1: 360822\tvalid_0's l2: 1.30681e+11\tvalid_0's auc: 1\n",
      "[701]\tvalid_0's l1: 360822\tvalid_0's l2: 1.30681e+11\tvalid_0's auc: 1\n",
      "[702]\tvalid_0's l1: 360822\tvalid_0's l2: 1.30681e+11\tvalid_0's auc: 1\n",
      "[703]\tvalid_0's l1: 360822\tvalid_0's l2: 1.30681e+11\tvalid_0's auc: 1\n",
      "[704]\tvalid_0's l1: 360822\tvalid_0's l2: 1.30681e+11\tvalid_0's auc: 1\n",
      "[705]\tvalid_0's l1: 360822\tvalid_0's l2: 1.30681e+11\tvalid_0's auc: 1\n",
      "[706]\tvalid_0's l1: 360822\tvalid_0's l2: 1.30681e+11\tvalid_0's auc: 1\n",
      "[707]\tvalid_0's l1: 360822\tvalid_0's l2: 1.30681e+11\tvalid_0's auc: 1\n",
      "[708]\tvalid_0's l1: 360822\tvalid_0's l2: 1.30681e+11\tvalid_0's auc: 1\n",
      "[709]\tvalid_0's l1: 360822\tvalid_0's l2: 1.30681e+11\tvalid_0's auc: 1\n",
      "[710]\tvalid_0's l1: 360822\tvalid_0's l2: 1.30681e+11\tvalid_0's auc: 1\n",
      "[711]\tvalid_0's l1: 360822\tvalid_0's l2: 1.30681e+11\tvalid_0's auc: 1\n",
      "[712]\tvalid_0's l1: 360822\tvalid_0's l2: 1.30681e+11\tvalid_0's auc: 1\n",
      "[713]\tvalid_0's l1: 360822\tvalid_0's l2: 1.30681e+11\tvalid_0's auc: 1\n",
      "[714]\tvalid_0's l1: 360822\tvalid_0's l2: 1.30681e+11\tvalid_0's auc: 1\n",
      "[715]\tvalid_0's l1: 360822\tvalid_0's l2: 1.30681e+11\tvalid_0's auc: 1\n",
      "[716]\tvalid_0's l1: 360822\tvalid_0's l2: 1.30681e+11\tvalid_0's auc: 1\n",
      "[717]\tvalid_0's l1: 360822\tvalid_0's l2: 1.30681e+11\tvalid_0's auc: 1\n",
      "[718]\tvalid_0's l1: 360822\tvalid_0's l2: 1.30681e+11\tvalid_0's auc: 1\n",
      "[719]\tvalid_0's l1: 360822\tvalid_0's l2: 1.30681e+11\tvalid_0's auc: 1\n",
      "[720]\tvalid_0's l1: 360822\tvalid_0's l2: 1.30681e+11\tvalid_0's auc: 1\n",
      "[721]\tvalid_0's l1: 360822\tvalid_0's l2: 1.30681e+11\tvalid_0's auc: 1\n",
      "[722]\tvalid_0's l1: 360822\tvalid_0's l2: 1.30681e+11\tvalid_0's auc: 1\n",
      "[723]\tvalid_0's l1: 360822\tvalid_0's l2: 1.30681e+11\tvalid_0's auc: 1\n",
      "[724]\tvalid_0's l1: 360822\tvalid_0's l2: 1.30681e+11\tvalid_0's auc: 1\n",
      "[725]\tvalid_0's l1: 360822\tvalid_0's l2: 1.30681e+11\tvalid_0's auc: 1\n",
      "[726]\tvalid_0's l1: 360822\tvalid_0's l2: 1.30681e+11\tvalid_0's auc: 1\n",
      "[727]\tvalid_0's l1: 360822\tvalid_0's l2: 1.30681e+11\tvalid_0's auc: 1\n",
      "[728]\tvalid_0's l1: 360822\tvalid_0's l2: 1.30681e+11\tvalid_0's auc: 1\n",
      "[729]\tvalid_0's l1: 360822\tvalid_0's l2: 1.30681e+11\tvalid_0's auc: 1\n",
      "[730]\tvalid_0's l1: 360822\tvalid_0's l2: 1.30681e+11\tvalid_0's auc: 1\n",
      "[731]\tvalid_0's l1: 360822\tvalid_0's l2: 1.30681e+11\tvalid_0's auc: 1\n",
      "[732]\tvalid_0's l1: 360822\tvalid_0's l2: 1.30681e+11\tvalid_0's auc: 1\n",
      "[733]\tvalid_0's l1: 360822\tvalid_0's l2: 1.30681e+11\tvalid_0's auc: 1\n",
      "[734]\tvalid_0's l1: 360822\tvalid_0's l2: 1.30681e+11\tvalid_0's auc: 1\n",
      "[735]\tvalid_0's l1: 360822\tvalid_0's l2: 1.30681e+11\tvalid_0's auc: 1\n",
      "[736]\tvalid_0's l1: 360822\tvalid_0's l2: 1.30681e+11\tvalid_0's auc: 1\n",
      "[737]\tvalid_0's l1: 360822\tvalid_0's l2: 1.30681e+11\tvalid_0's auc: 1\n",
      "[738]\tvalid_0's l1: 360822\tvalid_0's l2: 1.30681e+11\tvalid_0's auc: 1\n",
      "[739]\tvalid_0's l1: 360822\tvalid_0's l2: 1.30681e+11\tvalid_0's auc: 1\n",
      "[740]\tvalid_0's l1: 360822\tvalid_0's l2: 1.30681e+11\tvalid_0's auc: 1\n",
      "[741]\tvalid_0's l1: 360822\tvalid_0's l2: 1.30681e+11\tvalid_0's auc: 1\n",
      "[742]\tvalid_0's l1: 360822\tvalid_0's l2: 1.30681e+11\tvalid_0's auc: 1\n",
      "[743]\tvalid_0's l1: 360822\tvalid_0's l2: 1.30681e+11\tvalid_0's auc: 1\n",
      "[744]\tvalid_0's l1: 360822\tvalid_0's l2: 1.30681e+11\tvalid_0's auc: 1\n",
      "[745]\tvalid_0's l1: 360822\tvalid_0's l2: 1.30681e+11\tvalid_0's auc: 1\n",
      "[746]\tvalid_0's l1: 360822\tvalid_0's l2: 1.30681e+11\tvalid_0's auc: 1\n",
      "[747]\tvalid_0's l1: 360822\tvalid_0's l2: 1.30681e+11\tvalid_0's auc: 1\n",
      "[748]\tvalid_0's l1: 360822\tvalid_0's l2: 1.30681e+11\tvalid_0's auc: 1\n",
      "[749]\tvalid_0's l1: 360822\tvalid_0's l2: 1.30681e+11\tvalid_0's auc: 1\n",
      "[750]\tvalid_0's l1: 360822\tvalid_0's l2: 1.30681e+11\tvalid_0's auc: 1\n",
      "[751]\tvalid_0's l1: 360822\tvalid_0's l2: 1.30681e+11\tvalid_0's auc: 1\n",
      "[752]\tvalid_0's l1: 360822\tvalid_0's l2: 1.30681e+11\tvalid_0's auc: 1\n",
      "[753]\tvalid_0's l1: 360822\tvalid_0's l2: 1.30681e+11\tvalid_0's auc: 1\n",
      "[754]\tvalid_0's l1: 360822\tvalid_0's l2: 1.30681e+11\tvalid_0's auc: 1\n",
      "[755]\tvalid_0's l1: 360822\tvalid_0's l2: 1.30681e+11\tvalid_0's auc: 1\n",
      "[756]\tvalid_0's l1: 360822\tvalid_0's l2: 1.30681e+11\tvalid_0's auc: 1\n",
      "[757]\tvalid_0's l1: 360822\tvalid_0's l2: 1.30681e+11\tvalid_0's auc: 1\n",
      "[758]\tvalid_0's l1: 360822\tvalid_0's l2: 1.30681e+11\tvalid_0's auc: 1\n",
      "[759]\tvalid_0's l1: 360822\tvalid_0's l2: 1.30681e+11\tvalid_0's auc: 1\n",
      "[760]\tvalid_0's l1: 360822\tvalid_0's l2: 1.30681e+11\tvalid_0's auc: 1\n",
      "[761]\tvalid_0's l1: 360822\tvalid_0's l2: 1.30681e+11\tvalid_0's auc: 1\n",
      "[762]\tvalid_0's l1: 360822\tvalid_0's l2: 1.30681e+11\tvalid_0's auc: 1\n",
      "[763]\tvalid_0's l1: 360822\tvalid_0's l2: 1.30681e+11\tvalid_0's auc: 1\n",
      "[764]\tvalid_0's l1: 360822\tvalid_0's l2: 1.30681e+11\tvalid_0's auc: 1\n",
      "[765]\tvalid_0's l1: 360822\tvalid_0's l2: 1.30681e+11\tvalid_0's auc: 1\n",
      "[766]\tvalid_0's l1: 360822\tvalid_0's l2: 1.30681e+11\tvalid_0's auc: 1\n",
      "[767]\tvalid_0's l1: 360822\tvalid_0's l2: 1.30681e+11\tvalid_0's auc: 1\n",
      "[768]\tvalid_0's l1: 360822\tvalid_0's l2: 1.30681e+11\tvalid_0's auc: 1\n",
      "[769]\tvalid_0's l1: 360822\tvalid_0's l2: 1.30681e+11\tvalid_0's auc: 1\n",
      "[770]\tvalid_0's l1: 360822\tvalid_0's l2: 1.30681e+11\tvalid_0's auc: 1\n",
      "[771]\tvalid_0's l1: 360822\tvalid_0's l2: 1.30681e+11\tvalid_0's auc: 1\n",
      "[772]\tvalid_0's l1: 360822\tvalid_0's l2: 1.30681e+11\tvalid_0's auc: 1\n",
      "[773]\tvalid_0's l1: 360822\tvalid_0's l2: 1.30681e+11\tvalid_0's auc: 1\n",
      "[774]\tvalid_0's l1: 360822\tvalid_0's l2: 1.30681e+11\tvalid_0's auc: 1\n",
      "[775]\tvalid_0's l1: 360822\tvalid_0's l2: 1.30681e+11\tvalid_0's auc: 1\n",
      "[776]\tvalid_0's l1: 360822\tvalid_0's l2: 1.30681e+11\tvalid_0's auc: 1\n",
      "[777]\tvalid_0's l1: 360822\tvalid_0's l2: 1.30681e+11\tvalid_0's auc: 1\n",
      "[778]\tvalid_0's l1: 360822\tvalid_0's l2: 1.30681e+11\tvalid_0's auc: 1\n",
      "[779]\tvalid_0's l1: 360822\tvalid_0's l2: 1.30681e+11\tvalid_0's auc: 1\n",
      "[780]\tvalid_0's l1: 360822\tvalid_0's l2: 1.30681e+11\tvalid_0's auc: 1\n",
      "[781]\tvalid_0's l1: 360822\tvalid_0's l2: 1.30681e+11\tvalid_0's auc: 1\n",
      "[782]\tvalid_0's l1: 360822\tvalid_0's l2: 1.30681e+11\tvalid_0's auc: 1\n",
      "[783]\tvalid_0's l1: 360822\tvalid_0's l2: 1.30681e+11\tvalid_0's auc: 1\n",
      "[784]\tvalid_0's l1: 360822\tvalid_0's l2: 1.30681e+11\tvalid_0's auc: 1\n",
      "[785]\tvalid_0's l1: 360822\tvalid_0's l2: 1.30681e+11\tvalid_0's auc: 1\n",
      "[786]\tvalid_0's l1: 360822\tvalid_0's l2: 1.30681e+11\tvalid_0's auc: 1\n",
      "[787]\tvalid_0's l1: 360822\tvalid_0's l2: 1.30681e+11\tvalid_0's auc: 1\n",
      "[788]\tvalid_0's l1: 360822\tvalid_0's l2: 1.30681e+11\tvalid_0's auc: 1\n",
      "[789]\tvalid_0's l1: 360822\tvalid_0's l2: 1.30681e+11\tvalid_0's auc: 1\n",
      "[790]\tvalid_0's l1: 360822\tvalid_0's l2: 1.30681e+11\tvalid_0's auc: 1\n",
      "[791]\tvalid_0's l1: 360822\tvalid_0's l2: 1.30681e+11\tvalid_0's auc: 1\n",
      "[792]\tvalid_0's l1: 360822\tvalid_0's l2: 1.30681e+11\tvalid_0's auc: 1\n",
      "[793]\tvalid_0's l1: 360822\tvalid_0's l2: 1.30681e+11\tvalid_0's auc: 1\n",
      "[794]\tvalid_0's l1: 360822\tvalid_0's l2: 1.30681e+11\tvalid_0's auc: 1\n",
      "[795]\tvalid_0's l1: 360822\tvalid_0's l2: 1.30681e+11\tvalid_0's auc: 1\n",
      "[796]\tvalid_0's l1: 360822\tvalid_0's l2: 1.30681e+11\tvalid_0's auc: 1\n",
      "[797]\tvalid_0's l1: 360822\tvalid_0's l2: 1.30681e+11\tvalid_0's auc: 1\n",
      "[798]\tvalid_0's l1: 360822\tvalid_0's l2: 1.30681e+11\tvalid_0's auc: 1\n",
      "[799]\tvalid_0's l1: 360822\tvalid_0's l2: 1.30681e+11\tvalid_0's auc: 1\n"
     ]
    },
    {
     "name": "stdout",
     "output_type": "stream",
     "text": [
      "[800]\tvalid_0's l1: 360822\tvalid_0's l2: 1.30681e+11\tvalid_0's auc: 1\n",
      "[801]\tvalid_0's l1: 360822\tvalid_0's l2: 1.30681e+11\tvalid_0's auc: 1\n",
      "[802]\tvalid_0's l1: 360822\tvalid_0's l2: 1.30681e+11\tvalid_0's auc: 1\n",
      "[803]\tvalid_0's l1: 360822\tvalid_0's l2: 1.30681e+11\tvalid_0's auc: 1\n",
      "[804]\tvalid_0's l1: 360822\tvalid_0's l2: 1.30681e+11\tvalid_0's auc: 1\n",
      "[805]\tvalid_0's l1: 360822\tvalid_0's l2: 1.30681e+11\tvalid_0's auc: 1\n",
      "[806]\tvalid_0's l1: 360822\tvalid_0's l2: 1.30681e+11\tvalid_0's auc: 1\n",
      "[807]\tvalid_0's l1: 360822\tvalid_0's l2: 1.30681e+11\tvalid_0's auc: 1\n",
      "[808]\tvalid_0's l1: 360822\tvalid_0's l2: 1.30681e+11\tvalid_0's auc: 1\n",
      "[809]\tvalid_0's l1: 360822\tvalid_0's l2: 1.30681e+11\tvalid_0's auc: 1\n",
      "[810]\tvalid_0's l1: 360822\tvalid_0's l2: 1.30681e+11\tvalid_0's auc: 1\n",
      "[811]\tvalid_0's l1: 360822\tvalid_0's l2: 1.30681e+11\tvalid_0's auc: 1\n",
      "[812]\tvalid_0's l1: 360822\tvalid_0's l2: 1.30681e+11\tvalid_0's auc: 1\n",
      "[813]\tvalid_0's l1: 360822\tvalid_0's l2: 1.30681e+11\tvalid_0's auc: 1\n",
      "[814]\tvalid_0's l1: 360822\tvalid_0's l2: 1.30681e+11\tvalid_0's auc: 1\n",
      "[815]\tvalid_0's l1: 360822\tvalid_0's l2: 1.30681e+11\tvalid_0's auc: 1\n",
      "[816]\tvalid_0's l1: 360822\tvalid_0's l2: 1.30681e+11\tvalid_0's auc: 1\n",
      "[817]\tvalid_0's l1: 360822\tvalid_0's l2: 1.30681e+11\tvalid_0's auc: 1\n",
      "[818]\tvalid_0's l1: 360822\tvalid_0's l2: 1.30681e+11\tvalid_0's auc: 1\n",
      "[819]\tvalid_0's l1: 360822\tvalid_0's l2: 1.30681e+11\tvalid_0's auc: 1\n",
      "[820]\tvalid_0's l1: 360822\tvalid_0's l2: 1.30681e+11\tvalid_0's auc: 1\n",
      "[821]\tvalid_0's l1: 360822\tvalid_0's l2: 1.30681e+11\tvalid_0's auc: 1\n",
      "[822]\tvalid_0's l1: 360822\tvalid_0's l2: 1.30681e+11\tvalid_0's auc: 1\n",
      "[823]\tvalid_0's l1: 360822\tvalid_0's l2: 1.30681e+11\tvalid_0's auc: 1\n",
      "[824]\tvalid_0's l1: 360822\tvalid_0's l2: 1.30681e+11\tvalid_0's auc: 1\n",
      "[825]\tvalid_0's l1: 360822\tvalid_0's l2: 1.30681e+11\tvalid_0's auc: 1\n",
      "[826]\tvalid_0's l1: 360822\tvalid_0's l2: 1.30681e+11\tvalid_0's auc: 1\n",
      "[827]\tvalid_0's l1: 360822\tvalid_0's l2: 1.30681e+11\tvalid_0's auc: 1\n",
      "[828]\tvalid_0's l1: 360822\tvalid_0's l2: 1.30681e+11\tvalid_0's auc: 1\n",
      "[829]\tvalid_0's l1: 360822\tvalid_0's l2: 1.30681e+11\tvalid_0's auc: 1\n",
      "[830]\tvalid_0's l1: 360822\tvalid_0's l2: 1.30681e+11\tvalid_0's auc: 1\n",
      "[831]\tvalid_0's l1: 360822\tvalid_0's l2: 1.30681e+11\tvalid_0's auc: 1\n",
      "[832]\tvalid_0's l1: 360822\tvalid_0's l2: 1.30681e+11\tvalid_0's auc: 1\n",
      "[833]\tvalid_0's l1: 360822\tvalid_0's l2: 1.30681e+11\tvalid_0's auc: 1\n",
      "[834]\tvalid_0's l1: 360822\tvalid_0's l2: 1.30681e+11\tvalid_0's auc: 1\n",
      "[835]\tvalid_0's l1: 360822\tvalid_0's l2: 1.30681e+11\tvalid_0's auc: 1\n",
      "[836]\tvalid_0's l1: 360822\tvalid_0's l2: 1.30681e+11\tvalid_0's auc: 1\n",
      "[837]\tvalid_0's l1: 360822\tvalid_0's l2: 1.30681e+11\tvalid_0's auc: 1\n",
      "[838]\tvalid_0's l1: 360822\tvalid_0's l2: 1.30681e+11\tvalid_0's auc: 1\n",
      "[839]\tvalid_0's l1: 360822\tvalid_0's l2: 1.30681e+11\tvalid_0's auc: 1\n",
      "[840]\tvalid_0's l1: 360822\tvalid_0's l2: 1.30681e+11\tvalid_0's auc: 1\n",
      "[841]\tvalid_0's l1: 360822\tvalid_0's l2: 1.30681e+11\tvalid_0's auc: 1\n",
      "[842]\tvalid_0's l1: 360822\tvalid_0's l2: 1.30681e+11\tvalid_0's auc: 1\n",
      "[843]\tvalid_0's l1: 360822\tvalid_0's l2: 1.30681e+11\tvalid_0's auc: 1\n",
      "[844]\tvalid_0's l1: 360822\tvalid_0's l2: 1.30681e+11\tvalid_0's auc: 1\n",
      "[845]\tvalid_0's l1: 360822\tvalid_0's l2: 1.30681e+11\tvalid_0's auc: 1\n",
      "[846]\tvalid_0's l1: 360822\tvalid_0's l2: 1.30681e+11\tvalid_0's auc: 1\n",
      "[847]\tvalid_0's l1: 360822\tvalid_0's l2: 1.30681e+11\tvalid_0's auc: 1\n",
      "[848]\tvalid_0's l1: 360822\tvalid_0's l2: 1.30681e+11\tvalid_0's auc: 1\n",
      "[849]\tvalid_0's l1: 360822\tvalid_0's l2: 1.30681e+11\tvalid_0's auc: 1\n",
      "[850]\tvalid_0's l1: 360822\tvalid_0's l2: 1.30681e+11\tvalid_0's auc: 1\n",
      "[851]\tvalid_0's l1: 360822\tvalid_0's l2: 1.30681e+11\tvalid_0's auc: 1\n",
      "[852]\tvalid_0's l1: 360822\tvalid_0's l2: 1.30681e+11\tvalid_0's auc: 1\n",
      "[853]\tvalid_0's l1: 360822\tvalid_0's l2: 1.30681e+11\tvalid_0's auc: 1\n",
      "[854]\tvalid_0's l1: 360822\tvalid_0's l2: 1.30681e+11\tvalid_0's auc: 1\n",
      "[855]\tvalid_0's l1: 360822\tvalid_0's l2: 1.30681e+11\tvalid_0's auc: 1\n",
      "[856]\tvalid_0's l1: 360822\tvalid_0's l2: 1.30681e+11\tvalid_0's auc: 1\n",
      "[857]\tvalid_0's l1: 360822\tvalid_0's l2: 1.30681e+11\tvalid_0's auc: 1\n",
      "[858]\tvalid_0's l1: 360822\tvalid_0's l2: 1.30681e+11\tvalid_0's auc: 1\n",
      "[859]\tvalid_0's l1: 360822\tvalid_0's l2: 1.30681e+11\tvalid_0's auc: 1\n",
      "[860]\tvalid_0's l1: 360822\tvalid_0's l2: 1.30681e+11\tvalid_0's auc: 1\n",
      "[861]\tvalid_0's l1: 360822\tvalid_0's l2: 1.30681e+11\tvalid_0's auc: 1\n",
      "[862]\tvalid_0's l1: 360822\tvalid_0's l2: 1.30681e+11\tvalid_0's auc: 1\n",
      "[863]\tvalid_0's l1: 360822\tvalid_0's l2: 1.30681e+11\tvalid_0's auc: 1\n",
      "[864]\tvalid_0's l1: 360822\tvalid_0's l2: 1.30681e+11\tvalid_0's auc: 1\n",
      "[865]\tvalid_0's l1: 360822\tvalid_0's l2: 1.30681e+11\tvalid_0's auc: 1\n",
      "[866]\tvalid_0's l1: 360822\tvalid_0's l2: 1.30681e+11\tvalid_0's auc: 1\n",
      "[867]\tvalid_0's l1: 360822\tvalid_0's l2: 1.30681e+11\tvalid_0's auc: 1\n",
      "[868]\tvalid_0's l1: 360822\tvalid_0's l2: 1.30681e+11\tvalid_0's auc: 1\n",
      "[869]\tvalid_0's l1: 360822\tvalid_0's l2: 1.30681e+11\tvalid_0's auc: 1\n",
      "[870]\tvalid_0's l1: 360822\tvalid_0's l2: 1.30681e+11\tvalid_0's auc: 1\n",
      "[871]\tvalid_0's l1: 360822\tvalid_0's l2: 1.30681e+11\tvalid_0's auc: 1\n",
      "[872]\tvalid_0's l1: 360822\tvalid_0's l2: 1.30681e+11\tvalid_0's auc: 1\n",
      "[873]\tvalid_0's l1: 360822\tvalid_0's l2: 1.30681e+11\tvalid_0's auc: 1\n",
      "[874]\tvalid_0's l1: 360822\tvalid_0's l2: 1.30681e+11\tvalid_0's auc: 1\n",
      "[875]\tvalid_0's l1: 360822\tvalid_0's l2: 1.30681e+11\tvalid_0's auc: 1\n",
      "[876]\tvalid_0's l1: 360822\tvalid_0's l2: 1.30681e+11\tvalid_0's auc: 1\n",
      "[877]\tvalid_0's l1: 360822\tvalid_0's l2: 1.30681e+11\tvalid_0's auc: 1\n",
      "[878]\tvalid_0's l1: 360822\tvalid_0's l2: 1.30681e+11\tvalid_0's auc: 1\n",
      "[879]\tvalid_0's l1: 360822\tvalid_0's l2: 1.30681e+11\tvalid_0's auc: 1\n",
      "[880]\tvalid_0's l1: 360822\tvalid_0's l2: 1.30681e+11\tvalid_0's auc: 1\n",
      "[881]\tvalid_0's l1: 360822\tvalid_0's l2: 1.30681e+11\tvalid_0's auc: 1\n",
      "[882]\tvalid_0's l1: 360822\tvalid_0's l2: 1.30681e+11\tvalid_0's auc: 1\n",
      "[883]\tvalid_0's l1: 360822\tvalid_0's l2: 1.30681e+11\tvalid_0's auc: 1\n",
      "[884]\tvalid_0's l1: 360822\tvalid_0's l2: 1.30681e+11\tvalid_0's auc: 1\n",
      "[885]\tvalid_0's l1: 360822\tvalid_0's l2: 1.30681e+11\tvalid_0's auc: 1\n",
      "[886]\tvalid_0's l1: 360822\tvalid_0's l2: 1.30681e+11\tvalid_0's auc: 1\n",
      "[887]\tvalid_0's l1: 360822\tvalid_0's l2: 1.30681e+11\tvalid_0's auc: 1\n",
      "[888]\tvalid_0's l1: 360822\tvalid_0's l2: 1.30681e+11\tvalid_0's auc: 1\n",
      "[889]\tvalid_0's l1: 360822\tvalid_0's l2: 1.30681e+11\tvalid_0's auc: 1\n",
      "[890]\tvalid_0's l1: 360822\tvalid_0's l2: 1.30681e+11\tvalid_0's auc: 1\n",
      "[891]\tvalid_0's l1: 360822\tvalid_0's l2: 1.30681e+11\tvalid_0's auc: 1\n",
      "[892]\tvalid_0's l1: 360822\tvalid_0's l2: 1.30681e+11\tvalid_0's auc: 1\n",
      "[893]\tvalid_0's l1: 360822\tvalid_0's l2: 1.30681e+11\tvalid_0's auc: 1\n",
      "[894]\tvalid_0's l1: 360822\tvalid_0's l2: 1.30681e+11\tvalid_0's auc: 1\n",
      "[895]\tvalid_0's l1: 360822\tvalid_0's l2: 1.30681e+11\tvalid_0's auc: 1\n",
      "[896]\tvalid_0's l1: 360822\tvalid_0's l2: 1.30681e+11\tvalid_0's auc: 1\n",
      "[897]\tvalid_0's l1: 360822\tvalid_0's l2: 1.30681e+11\tvalid_0's auc: 1\n",
      "[898]\tvalid_0's l1: 360822\tvalid_0's l2: 1.30681e+11\tvalid_0's auc: 1\n",
      "[899]\tvalid_0's l1: 360822\tvalid_0's l2: 1.30681e+11\tvalid_0's auc: 1\n",
      "[900]\tvalid_0's l1: 360822\tvalid_0's l2: 1.30681e+11\tvalid_0's auc: 1\n",
      "[901]\tvalid_0's l1: 360822\tvalid_0's l2: 1.30681e+11\tvalid_0's auc: 1\n",
      "[902]\tvalid_0's l1: 360822\tvalid_0's l2: 1.30681e+11\tvalid_0's auc: 1\n",
      "[903]\tvalid_0's l1: 360822\tvalid_0's l2: 1.30681e+11\tvalid_0's auc: 1\n",
      "[904]\tvalid_0's l1: 360822\tvalid_0's l2: 1.30681e+11\tvalid_0's auc: 1\n",
      "[905]\tvalid_0's l1: 360822\tvalid_0's l2: 1.30681e+11\tvalid_0's auc: 1\n",
      "[906]\tvalid_0's l1: 360822\tvalid_0's l2: 1.30681e+11\tvalid_0's auc: 1\n",
      "[907]\tvalid_0's l1: 360822\tvalid_0's l2: 1.30681e+11\tvalid_0's auc: 1\n",
      "[908]\tvalid_0's l1: 360822\tvalid_0's l2: 1.30681e+11\tvalid_0's auc: 1\n",
      "[909]\tvalid_0's l1: 360822\tvalid_0's l2: 1.30681e+11\tvalid_0's auc: 1\n",
      "[910]\tvalid_0's l1: 360822\tvalid_0's l2: 1.30681e+11\tvalid_0's auc: 1\n",
      "[911]\tvalid_0's l1: 360822\tvalid_0's l2: 1.30681e+11\tvalid_0's auc: 1\n",
      "[912]\tvalid_0's l1: 360822\tvalid_0's l2: 1.30681e+11\tvalid_0's auc: 1\n",
      "[913]\tvalid_0's l1: 360822\tvalid_0's l2: 1.30681e+11\tvalid_0's auc: 1\n",
      "[914]\tvalid_0's l1: 360822\tvalid_0's l2: 1.30681e+11\tvalid_0's auc: 1\n",
      "[915]\tvalid_0's l1: 360822\tvalid_0's l2: 1.30681e+11\tvalid_0's auc: 1\n",
      "[916]\tvalid_0's l1: 360822\tvalid_0's l2: 1.30681e+11\tvalid_0's auc: 1\n",
      "[917]\tvalid_0's l1: 360822\tvalid_0's l2: 1.30681e+11\tvalid_0's auc: 1\n",
      "[918]\tvalid_0's l1: 360822\tvalid_0's l2: 1.30681e+11\tvalid_0's auc: 1\n",
      "[919]\tvalid_0's l1: 360822\tvalid_0's l2: 1.30681e+11\tvalid_0's auc: 1\n",
      "[920]\tvalid_0's l1: 360822\tvalid_0's l2: 1.30681e+11\tvalid_0's auc: 1\n",
      "[921]\tvalid_0's l1: 360822\tvalid_0's l2: 1.30681e+11\tvalid_0's auc: 1\n",
      "[922]\tvalid_0's l1: 360822\tvalid_0's l2: 1.30681e+11\tvalid_0's auc: 1\n",
      "[923]\tvalid_0's l1: 360822\tvalid_0's l2: 1.30681e+11\tvalid_0's auc: 1\n",
      "[924]\tvalid_0's l1: 360822\tvalid_0's l2: 1.30681e+11\tvalid_0's auc: 1\n",
      "[925]\tvalid_0's l1: 360822\tvalid_0's l2: 1.30681e+11\tvalid_0's auc: 1\n",
      "[926]\tvalid_0's l1: 360822\tvalid_0's l2: 1.30681e+11\tvalid_0's auc: 1\n",
      "[927]\tvalid_0's l1: 360822\tvalid_0's l2: 1.30681e+11\tvalid_0's auc: 1\n",
      "[928]\tvalid_0's l1: 360822\tvalid_0's l2: 1.30681e+11\tvalid_0's auc: 1\n",
      "[929]\tvalid_0's l1: 360822\tvalid_0's l2: 1.30681e+11\tvalid_0's auc: 1\n",
      "[930]\tvalid_0's l1: 360822\tvalid_0's l2: 1.30681e+11\tvalid_0's auc: 1\n",
      "[931]\tvalid_0's l1: 360822\tvalid_0's l2: 1.30681e+11\tvalid_0's auc: 1\n",
      "[932]\tvalid_0's l1: 360822\tvalid_0's l2: 1.30681e+11\tvalid_0's auc: 1\n",
      "[933]\tvalid_0's l1: 360822\tvalid_0's l2: 1.30681e+11\tvalid_0's auc: 1\n",
      "[934]\tvalid_0's l1: 360822\tvalid_0's l2: 1.30681e+11\tvalid_0's auc: 1\n",
      "[935]\tvalid_0's l1: 360822\tvalid_0's l2: 1.30681e+11\tvalid_0's auc: 1\n",
      "[936]\tvalid_0's l1: 360822\tvalid_0's l2: 1.30681e+11\tvalid_0's auc: 1\n",
      "[937]\tvalid_0's l1: 360822\tvalid_0's l2: 1.30681e+11\tvalid_0's auc: 1\n",
      "[938]\tvalid_0's l1: 360822\tvalid_0's l2: 1.30681e+11\tvalid_0's auc: 1\n",
      "[939]\tvalid_0's l1: 360822\tvalid_0's l2: 1.30681e+11\tvalid_0's auc: 1\n",
      "[940]\tvalid_0's l1: 360822\tvalid_0's l2: 1.30681e+11\tvalid_0's auc: 1\n",
      "[941]\tvalid_0's l1: 360822\tvalid_0's l2: 1.30681e+11\tvalid_0's auc: 1\n",
      "[942]\tvalid_0's l1: 360822\tvalid_0's l2: 1.30681e+11\tvalid_0's auc: 1\n",
      "[943]\tvalid_0's l1: 360822\tvalid_0's l2: 1.30681e+11\tvalid_0's auc: 1\n",
      "[944]\tvalid_0's l1: 360822\tvalid_0's l2: 1.30681e+11\tvalid_0's auc: 1\n",
      "[945]\tvalid_0's l1: 360822\tvalid_0's l2: 1.30681e+11\tvalid_0's auc: 1\n",
      "[946]\tvalid_0's l1: 360822\tvalid_0's l2: 1.30681e+11\tvalid_0's auc: 1\n",
      "[947]\tvalid_0's l1: 360822\tvalid_0's l2: 1.30681e+11\tvalid_0's auc: 1\n",
      "[948]\tvalid_0's l1: 360822\tvalid_0's l2: 1.30681e+11\tvalid_0's auc: 1\n",
      "[949]\tvalid_0's l1: 360822\tvalid_0's l2: 1.30681e+11\tvalid_0's auc: 1\n",
      "[950]\tvalid_0's l1: 360822\tvalid_0's l2: 1.30681e+11\tvalid_0's auc: 1\n",
      "[951]\tvalid_0's l1: 360822\tvalid_0's l2: 1.30681e+11\tvalid_0's auc: 1\n",
      "[952]\tvalid_0's l1: 360822\tvalid_0's l2: 1.30681e+11\tvalid_0's auc: 1\n",
      "[953]\tvalid_0's l1: 360822\tvalid_0's l2: 1.30681e+11\tvalid_0's auc: 1\n",
      "[954]\tvalid_0's l1: 360822\tvalid_0's l2: 1.30681e+11\tvalid_0's auc: 1\n",
      "[955]\tvalid_0's l1: 360822\tvalid_0's l2: 1.30681e+11\tvalid_0's auc: 1\n",
      "[956]\tvalid_0's l1: 360822\tvalid_0's l2: 1.30681e+11\tvalid_0's auc: 1\n",
      "[957]\tvalid_0's l1: 360822\tvalid_0's l2: 1.30681e+11\tvalid_0's auc: 1\n",
      "[958]\tvalid_0's l1: 360822\tvalid_0's l2: 1.30681e+11\tvalid_0's auc: 1\n",
      "[959]\tvalid_0's l1: 360822\tvalid_0's l2: 1.30681e+11\tvalid_0's auc: 1\n",
      "[960]\tvalid_0's l1: 360822\tvalid_0's l2: 1.30681e+11\tvalid_0's auc: 1\n",
      "[961]\tvalid_0's l1: 360822\tvalid_0's l2: 1.30681e+11\tvalid_0's auc: 1\n",
      "[962]\tvalid_0's l1: 360822\tvalid_0's l2: 1.30681e+11\tvalid_0's auc: 1\n",
      "[963]\tvalid_0's l1: 360822\tvalid_0's l2: 1.30681e+11\tvalid_0's auc: 1\n",
      "[964]\tvalid_0's l1: 360822\tvalid_0's l2: 1.30681e+11\tvalid_0's auc: 1\n",
      "[965]\tvalid_0's l1: 360822\tvalid_0's l2: 1.30681e+11\tvalid_0's auc: 1\n",
      "[966]\tvalid_0's l1: 360822\tvalid_0's l2: 1.30681e+11\tvalid_0's auc: 1\n",
      "[967]\tvalid_0's l1: 360822\tvalid_0's l2: 1.30681e+11\tvalid_0's auc: 1\n",
      "[968]\tvalid_0's l1: 360822\tvalid_0's l2: 1.30681e+11\tvalid_0's auc: 1\n",
      "[969]\tvalid_0's l1: 360822\tvalid_0's l2: 1.30681e+11\tvalid_0's auc: 1\n",
      "[970]\tvalid_0's l1: 360822\tvalid_0's l2: 1.30681e+11\tvalid_0's auc: 1\n",
      "[971]\tvalid_0's l1: 360822\tvalid_0's l2: 1.30681e+11\tvalid_0's auc: 1\n",
      "[972]\tvalid_0's l1: 360822\tvalid_0's l2: 1.30681e+11\tvalid_0's auc: 1\n",
      "[973]\tvalid_0's l1: 360822\tvalid_0's l2: 1.30681e+11\tvalid_0's auc: 1\n",
      "[974]\tvalid_0's l1: 360822\tvalid_0's l2: 1.30681e+11\tvalid_0's auc: 1\n",
      "[975]\tvalid_0's l1: 360822\tvalid_0's l2: 1.30681e+11\tvalid_0's auc: 1\n",
      "[976]\tvalid_0's l1: 360822\tvalid_0's l2: 1.30681e+11\tvalid_0's auc: 1\n",
      "[977]\tvalid_0's l1: 360822\tvalid_0's l2: 1.30681e+11\tvalid_0's auc: 1\n",
      "[978]\tvalid_0's l1: 360822\tvalid_0's l2: 1.30681e+11\tvalid_0's auc: 1\n",
      "[979]\tvalid_0's l1: 360822\tvalid_0's l2: 1.30681e+11\tvalid_0's auc: 1\n",
      "[980]\tvalid_0's l1: 360822\tvalid_0's l2: 1.30681e+11\tvalid_0's auc: 1\n",
      "[981]\tvalid_0's l1: 360822\tvalid_0's l2: 1.30681e+11\tvalid_0's auc: 1\n",
      "[982]\tvalid_0's l1: 360822\tvalid_0's l2: 1.30681e+11\tvalid_0's auc: 1\n",
      "[983]\tvalid_0's l1: 360822\tvalid_0's l2: 1.30681e+11\tvalid_0's auc: 1\n",
      "[984]\tvalid_0's l1: 360822\tvalid_0's l2: 1.30681e+11\tvalid_0's auc: 1\n",
      "[985]\tvalid_0's l1: 360822\tvalid_0's l2: 1.30681e+11\tvalid_0's auc: 1\n",
      "[986]\tvalid_0's l1: 360822\tvalid_0's l2: 1.30681e+11\tvalid_0's auc: 1\n",
      "[987]\tvalid_0's l1: 360822\tvalid_0's l2: 1.30681e+11\tvalid_0's auc: 1\n",
      "[988]\tvalid_0's l1: 360822\tvalid_0's l2: 1.30681e+11\tvalid_0's auc: 1\n",
      "[989]\tvalid_0's l1: 360822\tvalid_0's l2: 1.30681e+11\tvalid_0's auc: 1\n",
      "[990]\tvalid_0's l1: 360822\tvalid_0's l2: 1.30681e+11\tvalid_0's auc: 1\n",
      "[991]\tvalid_0's l1: 360822\tvalid_0's l2: 1.30681e+11\tvalid_0's auc: 1\n",
      "[992]\tvalid_0's l1: 360822\tvalid_0's l2: 1.30681e+11\tvalid_0's auc: 1\n",
      "[993]\tvalid_0's l1: 360822\tvalid_0's l2: 1.30681e+11\tvalid_0's auc: 1\n",
      "[994]\tvalid_0's l1: 360822\tvalid_0's l2: 1.30681e+11\tvalid_0's auc: 1\n",
      "[995]\tvalid_0's l1: 360822\tvalid_0's l2: 1.30681e+11\tvalid_0's auc: 1\n",
      "[996]\tvalid_0's l1: 360822\tvalid_0's l2: 1.30681e+11\tvalid_0's auc: 1\n",
      "[997]\tvalid_0's l1: 360822\tvalid_0's l2: 1.30681e+11\tvalid_0's auc: 1\n",
      "[998]\tvalid_0's l1: 360822\tvalid_0's l2: 1.30681e+11\tvalid_0's auc: 1\n",
      "[999]\tvalid_0's l1: 360822\tvalid_0's l2: 1.30681e+11\tvalid_0's auc: 1\n",
      "[1000]\tvalid_0's l1: 360822\tvalid_0's l2: 1.30681e+11\tvalid_0's auc: 1\n",
      "Did not meet early stopping. Best iteration is:\n",
      "[1]\tvalid_0's l1: 360822\tvalid_0's l2: 1.30681e+11\tvalid_0's auc: 1\n"
     ]
    }
   ],
   "source": [
    "# Parameters\n",
    "\n",
    "hyper_params = {\n",
    "    'task': 'train',\n",
    "    'boosting_type': 'gbdt',\n",
    "    'objective': 'regression',\n",
    "    'metric': ['l2', 'auc'],\n",
    "    'learning_rate': 0.01,\n",
    "    'feature_fraction': 0.9,\n",
    "    'bagging_fraction': 0.7,\n",
    "    'bagging_freq': 10,\n",
    "    'verbose': 0,\n",
    "    \"max_depth\": 8,\n",
    "    \"num_leaves\": 128,  \n",
    "    \"max_bin\": 512,\n",
    "    \"num_iterations\": 1000,\n",
    "    \"n_estimators\": 1000,\n",
    "    \"random_state\": 9000\n",
    "}\n",
    "\n",
    "model3 = lgb.LGBMRegressor(**hyper_params)\n",
    "\n",
    "# Fit and Train the Model\n",
    "\n",
    "model3.fit(x_train, y_train,\n",
    "        eval_set=[(x_test, y_test)],\n",
    "        eval_metric='l1',\n",
    "        early_stopping_rounds=1000)\n",
    "\n",
    "# predict\n",
    "\n",
    "y_pred = model3.predict(x_test, num_iteration=model3.best_iteration_)\n"
   ]
  },
  {
   "cell_type": "code",
   "execution_count": 29,
   "metadata": {},
   "outputs": [
    {
     "name": "stdout",
     "output_type": "stream",
     "text": [
      "22774.976857620153\n"
     ]
    }
   ],
   "source": [
    "predictions = (predict*0.2 + preds*0.7 + y_pred *0.1)\n",
    "rms = sqrt(mean_squared_error(y_test, predictions))\n",
    "print(rms)"
   ]
  },
  {
   "cell_type": "code",
   "execution_count": 30,
   "metadata": {},
   "outputs": [
    {
     "data": {
      "text/html": [
       "<div>\n",
       "<style scoped>\n",
       "    .dataframe tbody tr th:only-of-type {\n",
       "        vertical-align: middle;\n",
       "    }\n",
       "\n",
       "    .dataframe tbody tr th {\n",
       "        vertical-align: top;\n",
       "    }\n",
       "\n",
       "    .dataframe thead th {\n",
       "        text-align: right;\n",
       "    }\n",
       "</style>\n",
       "<table border=\"1\" class=\"dataframe\">\n",
       "  <thead>\n",
       "    <tr style=\"text-align: right;\">\n",
       "      <th></th>\n",
       "      <th>test passengers</th>\n",
       "      <th>predictions</th>\n",
       "    </tr>\n",
       "  </thead>\n",
       "  <tbody>\n",
       "    <tr>\n",
       "      <th>2016-01-31</th>\n",
       "      <td>319965</td>\n",
       "      <td>318546.222913</td>\n",
       "    </tr>\n",
       "    <tr>\n",
       "      <th>2016-02-29</th>\n",
       "      <td>302066</td>\n",
       "      <td>314691.976615</td>\n",
       "    </tr>\n",
       "    <tr>\n",
       "      <th>2016-03-31</th>\n",
       "      <td>341328</td>\n",
       "      <td>325570.092474</td>\n",
       "    </tr>\n",
       "    <tr>\n",
       "      <th>2016-04-30</th>\n",
       "      <td>351474</td>\n",
       "      <td>335423.198357</td>\n",
       "    </tr>\n",
       "    <tr>\n",
       "      <th>2016-05-31</th>\n",
       "      <td>332160</td>\n",
       "      <td>342336.967539</td>\n",
       "    </tr>\n",
       "    <tr>\n",
       "      <th>2016-06-30</th>\n",
       "      <td>300219</td>\n",
       "      <td>327910.082555</td>\n",
       "    </tr>\n",
       "    <tr>\n",
       "      <th>2016-07-31</th>\n",
       "      <td>301266</td>\n",
       "      <td>322243.795692</td>\n",
       "    </tr>\n",
       "    <tr>\n",
       "      <th>2016-08-31</th>\n",
       "      <td>323039</td>\n",
       "      <td>319890.152329</td>\n",
       "    </tr>\n",
       "    <tr>\n",
       "      <th>2016-09-30</th>\n",
       "      <td>267465</td>\n",
       "      <td>327522.994741</td>\n",
       "    </tr>\n",
       "    <tr>\n",
       "      <th>2016-10-31</th>\n",
       "      <td>291441</td>\n",
       "      <td>306869.220658</td>\n",
       "    </tr>\n",
       "    <tr>\n",
       "      <th>2016-11-30</th>\n",
       "      <td>315608</td>\n",
       "      <td>306519.764335</td>\n",
       "    </tr>\n",
       "    <tr>\n",
       "      <th>2016-12-31</th>\n",
       "      <td>302802</td>\n",
       "      <td>320382.902305</td>\n",
       "    </tr>\n",
       "  </tbody>\n",
       "</table>\n",
       "</div>"
      ],
      "text/plain": [
       "            test passengers    predictions\n",
       "2016-01-31           319965  318546.222913\n",
       "2016-02-29           302066  314691.976615\n",
       "2016-03-31           341328  325570.092474\n",
       "2016-04-30           351474  335423.198357\n",
       "2016-05-31           332160  342336.967539\n",
       "2016-06-30           300219  327910.082555\n",
       "2016-07-31           301266  322243.795692\n",
       "2016-08-31           323039  319890.152329\n",
       "2016-09-30           267465  327522.994741\n",
       "2016-10-31           291441  306869.220658\n",
       "2016-11-30           315608  306519.764335\n",
       "2016-12-31           302802  320382.902305"
      ]
     },
     "execution_count": 30,
     "metadata": {},
     "output_type": "execute_result"
    }
   ],
   "source": [
    "model_pred = pd.DataFrame({'test passengers': test.passengers, \"predictions\": predictions})\n",
    "model_pred"
   ]
  },
  {
   "cell_type": "markdown",
   "metadata": {},
   "source": [
    "### Conclusion"
   ]
  },
  {
   "cell_type": "markdown",
   "metadata": {},
   "source": [
    "The above project was carried to build a forecasting model using Statistical time series analysis approach and a machine learning approach\n",
    "\n",
    "- Note:\n",
    "\n",
    "model bult is still up for further improvement, thingsto try include grid searching machine learning model parameters or optimal results"
   ]
  },
  {
   "cell_type": "code",
   "execution_count": null,
   "metadata": {},
   "outputs": [],
   "source": []
  }
 ],
 "metadata": {
  "kernelspec": {
   "display_name": "Python 3",
   "language": "python",
   "name": "python3"
  },
  "language_info": {
   "codemirror_mode": {
    "name": "ipython",
    "version": 3
   },
   "file_extension": ".py",
   "mimetype": "text/x-python",
   "name": "python",
   "nbconvert_exporter": "python",
   "pygments_lexer": "ipython3",
   "version": "3.7.1"
  }
 },
 "nbformat": 4,
 "nbformat_minor": 4
}
